{
  "nbformat": 4,
  "nbformat_minor": 0,
  "metadata": {
    "colab": {
      "provenance": [],
      "collapsed_sections": [
        "xG-2xHkFGRq7"
      ]
    },
    "kernelspec": {
      "name": "python3",
      "display_name": "Python 3"
    },
    "language_info": {
      "name": "python"
    }
  },
  "cells": [
    {
      "cell_type": "markdown",
      "source": [
        "#Import libraries \n",
        "\n"
      ],
      "metadata": {
        "id": "uR1bmwX0GHPB"
      }
    },
    {
      "cell_type": "code",
      "source": [
        "# import numpy as np # linear algebra\n",
        "# import pandas as pd # data processing, CSV file I/O (e.g. pd.read_csv)\n",
        "# import seaborn as sns # statistical data visualization\n",
        "# from sklearn.model_selection import GridSearchCV\n",
        "\n",
        "# sns.set()\n",
        "# import sys\n",
        "# import matplotlib.pyplot as plt # data visualization\n",
        "# %matplotlib inline\n",
        "# name = 'keras_tuner'\n",
        "# if name not in sys.modules:\n",
        "#   !pip install keras_tuner\n",
        "#   import keras_tuner as kt\n",
        "# else:\n",
        "#   import keras_tuner as kt\n",
        "\n",
        "# from time import time\n",
        "# from collections import Counter\n",
        "\n",
        "# #model selection\n",
        "# from sklearn.model_selection import train_test_split\n",
        "\n",
        "# #Preproccsing\n",
        "# from sklearn import preprocessing\n",
        "# from sklearn.preprocessing import StandardScaler , OneHotEncoder\n",
        "# import zipfile\n",
        "# import os\n",
        "\n",
        "\n",
        "# #DEEP LEARNING\n",
        "# from keras.layers.core import Dense\n",
        "# from keras.layers import Dropout\n",
        "# from tensorflow import keras\n",
        "# from keras.models import Sequential\n",
        "# from keras import regularizers\n",
        "# from tensorflow.keras.optimizers import SGD\n",
        "# from tensorflow.keras.optimizers import Adam\n",
        "# from tensorflow.keras.optimizers import RMSprop"
      ],
      "metadata": {
        "colab": {
          "base_uri": "https://localhost:8080/"
        },
        "id": "3VkswTjtjEl_",
        "outputId": "0e2e96e9-7986-4593-80a3-6e232d3ab166"
      },
      "execution_count": 1,
      "outputs": [
        {
          "output_type": "stream",
          "name": "stdout",
          "text": [
            "Looking in indexes: https://pypi.org/simple, https://us-python.pkg.dev/colab-wheels/public/simple/\n",
            "Requirement already satisfied: keras_tuner in /usr/local/lib/python3.9/dist-packages (1.3.1)\n",
            "Requirement already satisfied: packaging in /usr/local/lib/python3.9/dist-packages (from keras_tuner) (23.0)\n",
            "Requirement already satisfied: tensorflow>=2.0 in /usr/local/lib/python3.9/dist-packages (from keras_tuner) (2.11.0)\n",
            "Requirement already satisfied: requests in /usr/local/lib/python3.9/dist-packages (from keras_tuner) (2.27.1)\n",
            "Requirement already satisfied: kt-legacy in /usr/local/lib/python3.9/dist-packages (from keras_tuner) (1.0.4)\n",
            "Requirement already satisfied: tensorflow-io-gcs-filesystem>=0.23.1 in /usr/local/lib/python3.9/dist-packages (from tensorflow>=2.0->keras_tuner) (0.31.0)\n",
            "Requirement already satisfied: six>=1.12.0 in /usr/local/lib/python3.9/dist-packages (from tensorflow>=2.0->keras_tuner) (1.16.0)\n",
            "Requirement already satisfied: numpy>=1.20 in /usr/local/lib/python3.9/dist-packages (from tensorflow>=2.0->keras_tuner) (1.22.4)\n",
            "Requirement already satisfied: typing-extensions>=3.6.6 in /usr/local/lib/python3.9/dist-packages (from tensorflow>=2.0->keras_tuner) (4.5.0)\n",
            "Requirement already satisfied: wrapt>=1.11.0 in /usr/local/lib/python3.9/dist-packages (from tensorflow>=2.0->keras_tuner) (1.15.0)\n",
            "Requirement already satisfied: opt-einsum>=2.3.2 in /usr/local/lib/python3.9/dist-packages (from tensorflow>=2.0->keras_tuner) (3.3.0)\n",
            "Requirement already satisfied: libclang>=13.0.0 in /usr/local/lib/python3.9/dist-packages (from tensorflow>=2.0->keras_tuner) (15.0.6.1)\n",
            "Requirement already satisfied: protobuf<3.20,>=3.9.2 in /usr/local/lib/python3.9/dist-packages (from tensorflow>=2.0->keras_tuner) (3.19.6)\n",
            "Requirement already satisfied: absl-py>=1.0.0 in /usr/local/lib/python3.9/dist-packages (from tensorflow>=2.0->keras_tuner) (1.4.0)\n",
            "Requirement already satisfied: setuptools in /usr/local/lib/python3.9/dist-packages (from tensorflow>=2.0->keras_tuner) (67.6.0)\n",
            "Requirement already satisfied: tensorboard<2.12,>=2.11 in /usr/local/lib/python3.9/dist-packages (from tensorflow>=2.0->keras_tuner) (2.11.2)\n",
            "Requirement already satisfied: flatbuffers>=2.0 in /usr/local/lib/python3.9/dist-packages (from tensorflow>=2.0->keras_tuner) (23.3.3)\n",
            "Requirement already satisfied: tensorflow-estimator<2.12,>=2.11.0 in /usr/local/lib/python3.9/dist-packages (from tensorflow>=2.0->keras_tuner) (2.11.0)\n",
            "Requirement already satisfied: astunparse>=1.6.0 in /usr/local/lib/python3.9/dist-packages (from tensorflow>=2.0->keras_tuner) (1.6.3)\n",
            "Requirement already satisfied: google-pasta>=0.1.1 in /usr/local/lib/python3.9/dist-packages (from tensorflow>=2.0->keras_tuner) (0.2.0)\n",
            "Requirement already satisfied: keras<2.12,>=2.11.0 in /usr/local/lib/python3.9/dist-packages (from tensorflow>=2.0->keras_tuner) (2.11.0)\n",
            "Requirement already satisfied: gast<=0.4.0,>=0.2.1 in /usr/local/lib/python3.9/dist-packages (from tensorflow>=2.0->keras_tuner) (0.4.0)\n",
            "Requirement already satisfied: h5py>=2.9.0 in /usr/local/lib/python3.9/dist-packages (from tensorflow>=2.0->keras_tuner) (3.8.0)\n",
            "Requirement already satisfied: termcolor>=1.1.0 in /usr/local/lib/python3.9/dist-packages (from tensorflow>=2.0->keras_tuner) (2.2.0)\n",
            "Requirement already satisfied: grpcio<2.0,>=1.24.3 in /usr/local/lib/python3.9/dist-packages (from tensorflow>=2.0->keras_tuner) (1.51.3)\n",
            "Requirement already satisfied: urllib3<1.27,>=1.21.1 in /usr/local/lib/python3.9/dist-packages (from requests->keras_tuner) (1.26.15)\n",
            "Requirement already satisfied: certifi>=2017.4.17 in /usr/local/lib/python3.9/dist-packages (from requests->keras_tuner) (2022.12.7)\n",
            "Requirement already satisfied: charset-normalizer~=2.0.0 in /usr/local/lib/python3.9/dist-packages (from requests->keras_tuner) (2.0.12)\n",
            "Requirement already satisfied: idna<4,>=2.5 in /usr/local/lib/python3.9/dist-packages (from requests->keras_tuner) (3.4)\n",
            "Requirement already satisfied: wheel<1.0,>=0.23.0 in /usr/local/lib/python3.9/dist-packages (from astunparse>=1.6.0->tensorflow>=2.0->keras_tuner) (0.40.0)\n",
            "Requirement already satisfied: google-auth-oauthlib<0.5,>=0.4.1 in /usr/local/lib/python3.9/dist-packages (from tensorboard<2.12,>=2.11->tensorflow>=2.0->keras_tuner) (0.4.6)\n",
            "Requirement already satisfied: werkzeug>=1.0.1 in /usr/local/lib/python3.9/dist-packages (from tensorboard<2.12,>=2.11->tensorflow>=2.0->keras_tuner) (2.2.3)\n",
            "Requirement already satisfied: tensorboard-data-server<0.7.0,>=0.6.0 in /usr/local/lib/python3.9/dist-packages (from tensorboard<2.12,>=2.11->tensorflow>=2.0->keras_tuner) (0.6.1)\n",
            "Requirement already satisfied: markdown>=2.6.8 in /usr/local/lib/python3.9/dist-packages (from tensorboard<2.12,>=2.11->tensorflow>=2.0->keras_tuner) (3.4.3)\n",
            "Requirement already satisfied: google-auth<3,>=1.6.3 in /usr/local/lib/python3.9/dist-packages (from tensorboard<2.12,>=2.11->tensorflow>=2.0->keras_tuner) (2.16.2)\n",
            "Requirement already satisfied: tensorboard-plugin-wit>=1.6.0 in /usr/local/lib/python3.9/dist-packages (from tensorboard<2.12,>=2.11->tensorflow>=2.0->keras_tuner) (1.8.1)\n",
            "Requirement already satisfied: rsa<5,>=3.1.4 in /usr/local/lib/python3.9/dist-packages (from google-auth<3,>=1.6.3->tensorboard<2.12,>=2.11->tensorflow>=2.0->keras_tuner) (4.9)\n",
            "Requirement already satisfied: pyasn1-modules>=0.2.1 in /usr/local/lib/python3.9/dist-packages (from google-auth<3,>=1.6.3->tensorboard<2.12,>=2.11->tensorflow>=2.0->keras_tuner) (0.2.8)\n",
            "Requirement already satisfied: cachetools<6.0,>=2.0.0 in /usr/local/lib/python3.9/dist-packages (from google-auth<3,>=1.6.3->tensorboard<2.12,>=2.11->tensorflow>=2.0->keras_tuner) (5.3.0)\n",
            "Requirement already satisfied: requests-oauthlib>=0.7.0 in /usr/local/lib/python3.9/dist-packages (from google-auth-oauthlib<0.5,>=0.4.1->tensorboard<2.12,>=2.11->tensorflow>=2.0->keras_tuner) (1.3.1)\n",
            "Requirement already satisfied: importlib-metadata>=4.4 in /usr/local/lib/python3.9/dist-packages (from markdown>=2.6.8->tensorboard<2.12,>=2.11->tensorflow>=2.0->keras_tuner) (6.1.0)\n",
            "Requirement already satisfied: MarkupSafe>=2.1.1 in /usr/local/lib/python3.9/dist-packages (from werkzeug>=1.0.1->tensorboard<2.12,>=2.11->tensorflow>=2.0->keras_tuner) (2.1.2)\n",
            "Requirement already satisfied: zipp>=0.5 in /usr/local/lib/python3.9/dist-packages (from importlib-metadata>=4.4->markdown>=2.6.8->tensorboard<2.12,>=2.11->tensorflow>=2.0->keras_tuner) (3.15.0)\n",
            "Requirement already satisfied: pyasn1<0.5.0,>=0.4.6 in /usr/local/lib/python3.9/dist-packages (from pyasn1-modules>=0.2.1->google-auth<3,>=1.6.3->tensorboard<2.12,>=2.11->tensorflow>=2.0->keras_tuner) (0.4.8)\n",
            "Requirement already satisfied: oauthlib>=3.0.0 in /usr/local/lib/python3.9/dist-packages (from requests-oauthlib>=0.7.0->google-auth-oauthlib<0.5,>=0.4.1->tensorboard<2.12,>=2.11->tensorflow>=2.0->keras_tuner) (3.2.2)\n"
          ]
        }
      ]
    },
    {
      "cell_type": "code",
      "source": [
        "import tensorflow as tf\n",
        "import numpy as np\n",
        "import pandas as pd\n",
        "from tensorflow import keras\n",
        "from tensorflow.keras import layers\n",
        "from keras import optimizers\n",
        "import matplotlib.pyplot as plt\n",
        "from sklearn.model_selection import train_test_split\n",
        "from sklearn import preprocessing\n",
        "from keras.models import Sequential\n",
        "from keras.layers import Dense, Dropout, Activation, Flatten\n",
        "from sklearn.preprocessing import LabelEncoder\n",
        "from sklearn.preprocessing import StandardScaler\n",
        "import cv2 as cv\n",
        "import os\n",
        "import zipfile\n",
        "import os\n",
        "import seaborn as sns\n",
        "from sklearn.metrics import log_loss\n",
        "from keras.regularizers import l2\n",
        "from keras import regularizers\n",
        "from tensorflow.keras.optimizers import  SGD, Adam, RMSprop"
      ],
      "metadata": {
        "id": "SLkyDH8ytdlk"
      },
      "execution_count": 36,
      "outputs": []
    },
    {
      "cell_type": "markdown",
      "source": [
        "#load the data"
      ],
      "metadata": {
        "id": "xG-2xHkFGRq7"
      }
    },
    {
      "cell_type": "code",
      "execution_count": 3,
      "metadata": {
        "colab": {
          "base_uri": "https://localhost:8080/",
          "height": 0
        },
        "id": "CKKFsURWhIdI",
        "outputId": "65713024-1548-4700-89b8-66c1aacf4a80"
      },
      "outputs": [
        {
          "output_type": "execute_result",
          "data": {
            "text/plain": [
              "                    species   margin1   margin2   margin3   margin4   margin5  \\\n",
              "id                                                                              \n",
              "1               Acer_Opalus  0.007812  0.023438  0.023438  0.003906  0.011719   \n",
              "2     Pterocarya_Stenoptera  0.005859  0.000000  0.031250  0.015625  0.025391   \n",
              "3      Quercus_Hartwissiana  0.005859  0.009766  0.019531  0.007812  0.003906   \n",
              "5           Tilia_Tomentosa  0.000000  0.003906  0.023438  0.005859  0.021484   \n",
              "6        Quercus_Variabilis  0.005859  0.003906  0.048828  0.009766  0.013672   \n",
              "...                     ...       ...       ...       ...       ...       ...   \n",
              "1575   Magnolia_Salicifolia  0.060547  0.119140  0.007812  0.003906  0.000000   \n",
              "1578            Acer_Pictum  0.001953  0.003906  0.021484  0.107420  0.001953   \n",
              "1581     Alnus_Maximowiczii  0.001953  0.003906  0.000000  0.021484  0.078125   \n",
              "1582          Quercus_Rubra  0.000000  0.000000  0.046875  0.056641  0.009766   \n",
              "1584         Quercus_Afares  0.023438  0.019531  0.031250  0.015625  0.005859   \n",
              "\n",
              "       margin6   margin7  margin8   margin9  ...  texture55  texture56  \\\n",
              "id                                           ...                         \n",
              "1     0.009766  0.027344      0.0  0.001953  ...   0.007812   0.000000   \n",
              "2     0.001953  0.019531      0.0  0.000000  ...   0.000977   0.000000   \n",
              "3     0.005859  0.068359      0.0  0.000000  ...   0.154300   0.000000   \n",
              "5     0.019531  0.023438      0.0  0.013672  ...   0.000000   0.000977   \n",
              "6     0.015625  0.005859      0.0  0.000000  ...   0.096680   0.000000   \n",
              "...        ...       ...      ...       ...  ...        ...        ...   \n",
              "1575  0.148440  0.017578      0.0  0.001953  ...   0.242190   0.000000   \n",
              "1578  0.000000  0.000000      0.0  0.029297  ...   0.170900   0.000000   \n",
              "1581  0.003906  0.007812      0.0  0.003906  ...   0.004883   0.000977   \n",
              "1582  0.000000  0.000000      0.0  0.037109  ...   0.083008   0.030273   \n",
              "1584  0.019531  0.035156      0.0  0.003906  ...   0.000000   0.000000   \n",
              "\n",
              "      texture57  texture58  texture59  texture60  texture61  texture62  \\\n",
              "id                                                                       \n",
              "1      0.002930   0.002930   0.035156   0.000000   0.000000   0.004883   \n",
              "2      0.000000   0.000977   0.023438   0.000000   0.000000   0.000977   \n",
              "3      0.005859   0.000977   0.007812   0.000000   0.000000   0.000000   \n",
              "5      0.000000   0.000000   0.020508   0.000000   0.000000   0.017578   \n",
              "6      0.021484   0.000000   0.000000   0.000000   0.000000   0.000000   \n",
              "...         ...        ...        ...        ...        ...        ...   \n",
              "1575   0.034180   0.000000   0.010742   0.000000   0.000000   0.000000   \n",
              "1578   0.018555   0.000000   0.011719   0.000000   0.000000   0.000977   \n",
              "1581   0.004883   0.027344   0.016602   0.007812   0.000000   0.027344   \n",
              "1582   0.000977   0.002930   0.014648   0.000000   0.041992   0.000000   \n",
              "1584   0.002930   0.000000   0.012695   0.000000   0.000000   0.023438   \n",
              "\n",
              "      texture63  texture64  \n",
              "id                          \n",
              "1      0.000000   0.025391  \n",
              "2      0.039062   0.022461  \n",
              "3      0.020508   0.002930  \n",
              "5      0.000000   0.047852  \n",
              "6      0.000000   0.031250  \n",
              "...         ...        ...  \n",
              "1575   0.000000   0.018555  \n",
              "1578   0.000000   0.021484  \n",
              "1581   0.000000   0.001953  \n",
              "1582   0.001953   0.002930  \n",
              "1584   0.025391   0.022461  \n",
              "\n",
              "[990 rows x 193 columns]"
            ],
            "text/html": [
              "\n",
              "  <div id=\"df-b997d736-12cf-4608-8636-791625e9e70f\">\n",
              "    <div class=\"colab-df-container\">\n",
              "      <div>\n",
              "<style scoped>\n",
              "    .dataframe tbody tr th:only-of-type {\n",
              "        vertical-align: middle;\n",
              "    }\n",
              "\n",
              "    .dataframe tbody tr th {\n",
              "        vertical-align: top;\n",
              "    }\n",
              "\n",
              "    .dataframe thead th {\n",
              "        text-align: right;\n",
              "    }\n",
              "</style>\n",
              "<table border=\"1\" class=\"dataframe\">\n",
              "  <thead>\n",
              "    <tr style=\"text-align: right;\">\n",
              "      <th></th>\n",
              "      <th>species</th>\n",
              "      <th>margin1</th>\n",
              "      <th>margin2</th>\n",
              "      <th>margin3</th>\n",
              "      <th>margin4</th>\n",
              "      <th>margin5</th>\n",
              "      <th>margin6</th>\n",
              "      <th>margin7</th>\n",
              "      <th>margin8</th>\n",
              "      <th>margin9</th>\n",
              "      <th>...</th>\n",
              "      <th>texture55</th>\n",
              "      <th>texture56</th>\n",
              "      <th>texture57</th>\n",
              "      <th>texture58</th>\n",
              "      <th>texture59</th>\n",
              "      <th>texture60</th>\n",
              "      <th>texture61</th>\n",
              "      <th>texture62</th>\n",
              "      <th>texture63</th>\n",
              "      <th>texture64</th>\n",
              "    </tr>\n",
              "    <tr>\n",
              "      <th>id</th>\n",
              "      <th></th>\n",
              "      <th></th>\n",
              "      <th></th>\n",
              "      <th></th>\n",
              "      <th></th>\n",
              "      <th></th>\n",
              "      <th></th>\n",
              "      <th></th>\n",
              "      <th></th>\n",
              "      <th></th>\n",
              "      <th></th>\n",
              "      <th></th>\n",
              "      <th></th>\n",
              "      <th></th>\n",
              "      <th></th>\n",
              "      <th></th>\n",
              "      <th></th>\n",
              "      <th></th>\n",
              "      <th></th>\n",
              "      <th></th>\n",
              "      <th></th>\n",
              "    </tr>\n",
              "  </thead>\n",
              "  <tbody>\n",
              "    <tr>\n",
              "      <th>1</th>\n",
              "      <td>Acer_Opalus</td>\n",
              "      <td>0.007812</td>\n",
              "      <td>0.023438</td>\n",
              "      <td>0.023438</td>\n",
              "      <td>0.003906</td>\n",
              "      <td>0.011719</td>\n",
              "      <td>0.009766</td>\n",
              "      <td>0.027344</td>\n",
              "      <td>0.0</td>\n",
              "      <td>0.001953</td>\n",
              "      <td>...</td>\n",
              "      <td>0.007812</td>\n",
              "      <td>0.000000</td>\n",
              "      <td>0.002930</td>\n",
              "      <td>0.002930</td>\n",
              "      <td>0.035156</td>\n",
              "      <td>0.000000</td>\n",
              "      <td>0.000000</td>\n",
              "      <td>0.004883</td>\n",
              "      <td>0.000000</td>\n",
              "      <td>0.025391</td>\n",
              "    </tr>\n",
              "    <tr>\n",
              "      <th>2</th>\n",
              "      <td>Pterocarya_Stenoptera</td>\n",
              "      <td>0.005859</td>\n",
              "      <td>0.000000</td>\n",
              "      <td>0.031250</td>\n",
              "      <td>0.015625</td>\n",
              "      <td>0.025391</td>\n",
              "      <td>0.001953</td>\n",
              "      <td>0.019531</td>\n",
              "      <td>0.0</td>\n",
              "      <td>0.000000</td>\n",
              "      <td>...</td>\n",
              "      <td>0.000977</td>\n",
              "      <td>0.000000</td>\n",
              "      <td>0.000000</td>\n",
              "      <td>0.000977</td>\n",
              "      <td>0.023438</td>\n",
              "      <td>0.000000</td>\n",
              "      <td>0.000000</td>\n",
              "      <td>0.000977</td>\n",
              "      <td>0.039062</td>\n",
              "      <td>0.022461</td>\n",
              "    </tr>\n",
              "    <tr>\n",
              "      <th>3</th>\n",
              "      <td>Quercus_Hartwissiana</td>\n",
              "      <td>0.005859</td>\n",
              "      <td>0.009766</td>\n",
              "      <td>0.019531</td>\n",
              "      <td>0.007812</td>\n",
              "      <td>0.003906</td>\n",
              "      <td>0.005859</td>\n",
              "      <td>0.068359</td>\n",
              "      <td>0.0</td>\n",
              "      <td>0.000000</td>\n",
              "      <td>...</td>\n",
              "      <td>0.154300</td>\n",
              "      <td>0.000000</td>\n",
              "      <td>0.005859</td>\n",
              "      <td>0.000977</td>\n",
              "      <td>0.007812</td>\n",
              "      <td>0.000000</td>\n",
              "      <td>0.000000</td>\n",
              "      <td>0.000000</td>\n",
              "      <td>0.020508</td>\n",
              "      <td>0.002930</td>\n",
              "    </tr>\n",
              "    <tr>\n",
              "      <th>5</th>\n",
              "      <td>Tilia_Tomentosa</td>\n",
              "      <td>0.000000</td>\n",
              "      <td>0.003906</td>\n",
              "      <td>0.023438</td>\n",
              "      <td>0.005859</td>\n",
              "      <td>0.021484</td>\n",
              "      <td>0.019531</td>\n",
              "      <td>0.023438</td>\n",
              "      <td>0.0</td>\n",
              "      <td>0.013672</td>\n",
              "      <td>...</td>\n",
              "      <td>0.000000</td>\n",
              "      <td>0.000977</td>\n",
              "      <td>0.000000</td>\n",
              "      <td>0.000000</td>\n",
              "      <td>0.020508</td>\n",
              "      <td>0.000000</td>\n",
              "      <td>0.000000</td>\n",
              "      <td>0.017578</td>\n",
              "      <td>0.000000</td>\n",
              "      <td>0.047852</td>\n",
              "    </tr>\n",
              "    <tr>\n",
              "      <th>6</th>\n",
              "      <td>Quercus_Variabilis</td>\n",
              "      <td>0.005859</td>\n",
              "      <td>0.003906</td>\n",
              "      <td>0.048828</td>\n",
              "      <td>0.009766</td>\n",
              "      <td>0.013672</td>\n",
              "      <td>0.015625</td>\n",
              "      <td>0.005859</td>\n",
              "      <td>0.0</td>\n",
              "      <td>0.000000</td>\n",
              "      <td>...</td>\n",
              "      <td>0.096680</td>\n",
              "      <td>0.000000</td>\n",
              "      <td>0.021484</td>\n",
              "      <td>0.000000</td>\n",
              "      <td>0.000000</td>\n",
              "      <td>0.000000</td>\n",
              "      <td>0.000000</td>\n",
              "      <td>0.000000</td>\n",
              "      <td>0.000000</td>\n",
              "      <td>0.031250</td>\n",
              "    </tr>\n",
              "    <tr>\n",
              "      <th>...</th>\n",
              "      <td>...</td>\n",
              "      <td>...</td>\n",
              "      <td>...</td>\n",
              "      <td>...</td>\n",
              "      <td>...</td>\n",
              "      <td>...</td>\n",
              "      <td>...</td>\n",
              "      <td>...</td>\n",
              "      <td>...</td>\n",
              "      <td>...</td>\n",
              "      <td>...</td>\n",
              "      <td>...</td>\n",
              "      <td>...</td>\n",
              "      <td>...</td>\n",
              "      <td>...</td>\n",
              "      <td>...</td>\n",
              "      <td>...</td>\n",
              "      <td>...</td>\n",
              "      <td>...</td>\n",
              "      <td>...</td>\n",
              "      <td>...</td>\n",
              "    </tr>\n",
              "    <tr>\n",
              "      <th>1575</th>\n",
              "      <td>Magnolia_Salicifolia</td>\n",
              "      <td>0.060547</td>\n",
              "      <td>0.119140</td>\n",
              "      <td>0.007812</td>\n",
              "      <td>0.003906</td>\n",
              "      <td>0.000000</td>\n",
              "      <td>0.148440</td>\n",
              "      <td>0.017578</td>\n",
              "      <td>0.0</td>\n",
              "      <td>0.001953</td>\n",
              "      <td>...</td>\n",
              "      <td>0.242190</td>\n",
              "      <td>0.000000</td>\n",
              "      <td>0.034180</td>\n",
              "      <td>0.000000</td>\n",
              "      <td>0.010742</td>\n",
              "      <td>0.000000</td>\n",
              "      <td>0.000000</td>\n",
              "      <td>0.000000</td>\n",
              "      <td>0.000000</td>\n",
              "      <td>0.018555</td>\n",
              "    </tr>\n",
              "    <tr>\n",
              "      <th>1578</th>\n",
              "      <td>Acer_Pictum</td>\n",
              "      <td>0.001953</td>\n",
              "      <td>0.003906</td>\n",
              "      <td>0.021484</td>\n",
              "      <td>0.107420</td>\n",
              "      <td>0.001953</td>\n",
              "      <td>0.000000</td>\n",
              "      <td>0.000000</td>\n",
              "      <td>0.0</td>\n",
              "      <td>0.029297</td>\n",
              "      <td>...</td>\n",
              "      <td>0.170900</td>\n",
              "      <td>0.000000</td>\n",
              "      <td>0.018555</td>\n",
              "      <td>0.000000</td>\n",
              "      <td>0.011719</td>\n",
              "      <td>0.000000</td>\n",
              "      <td>0.000000</td>\n",
              "      <td>0.000977</td>\n",
              "      <td>0.000000</td>\n",
              "      <td>0.021484</td>\n",
              "    </tr>\n",
              "    <tr>\n",
              "      <th>1581</th>\n",
              "      <td>Alnus_Maximowiczii</td>\n",
              "      <td>0.001953</td>\n",
              "      <td>0.003906</td>\n",
              "      <td>0.000000</td>\n",
              "      <td>0.021484</td>\n",
              "      <td>0.078125</td>\n",
              "      <td>0.003906</td>\n",
              "      <td>0.007812</td>\n",
              "      <td>0.0</td>\n",
              "      <td>0.003906</td>\n",
              "      <td>...</td>\n",
              "      <td>0.004883</td>\n",
              "      <td>0.000977</td>\n",
              "      <td>0.004883</td>\n",
              "      <td>0.027344</td>\n",
              "      <td>0.016602</td>\n",
              "      <td>0.007812</td>\n",
              "      <td>0.000000</td>\n",
              "      <td>0.027344</td>\n",
              "      <td>0.000000</td>\n",
              "      <td>0.001953</td>\n",
              "    </tr>\n",
              "    <tr>\n",
              "      <th>1582</th>\n",
              "      <td>Quercus_Rubra</td>\n",
              "      <td>0.000000</td>\n",
              "      <td>0.000000</td>\n",
              "      <td>0.046875</td>\n",
              "      <td>0.056641</td>\n",
              "      <td>0.009766</td>\n",
              "      <td>0.000000</td>\n",
              "      <td>0.000000</td>\n",
              "      <td>0.0</td>\n",
              "      <td>0.037109</td>\n",
              "      <td>...</td>\n",
              "      <td>0.083008</td>\n",
              "      <td>0.030273</td>\n",
              "      <td>0.000977</td>\n",
              "      <td>0.002930</td>\n",
              "      <td>0.014648</td>\n",
              "      <td>0.000000</td>\n",
              "      <td>0.041992</td>\n",
              "      <td>0.000000</td>\n",
              "      <td>0.001953</td>\n",
              "      <td>0.002930</td>\n",
              "    </tr>\n",
              "    <tr>\n",
              "      <th>1584</th>\n",
              "      <td>Quercus_Afares</td>\n",
              "      <td>0.023438</td>\n",
              "      <td>0.019531</td>\n",
              "      <td>0.031250</td>\n",
              "      <td>0.015625</td>\n",
              "      <td>0.005859</td>\n",
              "      <td>0.019531</td>\n",
              "      <td>0.035156</td>\n",
              "      <td>0.0</td>\n",
              "      <td>0.003906</td>\n",
              "      <td>...</td>\n",
              "      <td>0.000000</td>\n",
              "      <td>0.000000</td>\n",
              "      <td>0.002930</td>\n",
              "      <td>0.000000</td>\n",
              "      <td>0.012695</td>\n",
              "      <td>0.000000</td>\n",
              "      <td>0.000000</td>\n",
              "      <td>0.023438</td>\n",
              "      <td>0.025391</td>\n",
              "      <td>0.022461</td>\n",
              "    </tr>\n",
              "  </tbody>\n",
              "</table>\n",
              "<p>990 rows × 193 columns</p>\n",
              "</div>\n",
              "      <button class=\"colab-df-convert\" onclick=\"convertToInteractive('df-b997d736-12cf-4608-8636-791625e9e70f')\"\n",
              "              title=\"Convert this dataframe to an interactive table.\"\n",
              "              style=\"display:none;\">\n",
              "        \n",
              "  <svg xmlns=\"http://www.w3.org/2000/svg\" height=\"24px\"viewBox=\"0 0 24 24\"\n",
              "       width=\"24px\">\n",
              "    <path d=\"M0 0h24v24H0V0z\" fill=\"none\"/>\n",
              "    <path d=\"M18.56 5.44l.94 2.06.94-2.06 2.06-.94-2.06-.94-.94-2.06-.94 2.06-2.06.94zm-11 1L8.5 8.5l.94-2.06 2.06-.94-2.06-.94L8.5 2.5l-.94 2.06-2.06.94zm10 10l.94 2.06.94-2.06 2.06-.94-2.06-.94-.94-2.06-.94 2.06-2.06.94z\"/><path d=\"M17.41 7.96l-1.37-1.37c-.4-.4-.92-.59-1.43-.59-.52 0-1.04.2-1.43.59L10.3 9.45l-7.72 7.72c-.78.78-.78 2.05 0 2.83L4 21.41c.39.39.9.59 1.41.59.51 0 1.02-.2 1.41-.59l7.78-7.78 2.81-2.81c.8-.78.8-2.07 0-2.86zM5.41 20L4 18.59l7.72-7.72 1.47 1.35L5.41 20z\"/>\n",
              "  </svg>\n",
              "      </button>\n",
              "      \n",
              "  <style>\n",
              "    .colab-df-container {\n",
              "      display:flex;\n",
              "      flex-wrap:wrap;\n",
              "      gap: 12px;\n",
              "    }\n",
              "\n",
              "    .colab-df-convert {\n",
              "      background-color: #E8F0FE;\n",
              "      border: none;\n",
              "      border-radius: 50%;\n",
              "      cursor: pointer;\n",
              "      display: none;\n",
              "      fill: #1967D2;\n",
              "      height: 32px;\n",
              "      padding: 0 0 0 0;\n",
              "      width: 32px;\n",
              "    }\n",
              "\n",
              "    .colab-df-convert:hover {\n",
              "      background-color: #E2EBFA;\n",
              "      box-shadow: 0px 1px 2px rgba(60, 64, 67, 0.3), 0px 1px 3px 1px rgba(60, 64, 67, 0.15);\n",
              "      fill: #174EA6;\n",
              "    }\n",
              "\n",
              "    [theme=dark] .colab-df-convert {\n",
              "      background-color: #3B4455;\n",
              "      fill: #D2E3FC;\n",
              "    }\n",
              "\n",
              "    [theme=dark] .colab-df-convert:hover {\n",
              "      background-color: #434B5C;\n",
              "      box-shadow: 0px 1px 3px 1px rgba(0, 0, 0, 0.15);\n",
              "      filter: drop-shadow(0px 1px 2px rgba(0, 0, 0, 0.3));\n",
              "      fill: #FFFFFF;\n",
              "    }\n",
              "  </style>\n",
              "\n",
              "      <script>\n",
              "        const buttonEl =\n",
              "          document.querySelector('#df-b997d736-12cf-4608-8636-791625e9e70f button.colab-df-convert');\n",
              "        buttonEl.style.display =\n",
              "          google.colab.kernel.accessAllowed ? 'block' : 'none';\n",
              "\n",
              "        async function convertToInteractive(key) {\n",
              "          const element = document.querySelector('#df-b997d736-12cf-4608-8636-791625e9e70f');\n",
              "          const dataTable =\n",
              "            await google.colab.kernel.invokeFunction('convertToInteractive',\n",
              "                                                     [key], {});\n",
              "          if (!dataTable) return;\n",
              "\n",
              "          const docLinkHtml = 'Like what you see? Visit the ' +\n",
              "            '<a target=\"_blank\" href=https://colab.research.google.com/notebooks/data_table.ipynb>data table notebook</a>'\n",
              "            + ' to learn more about interactive tables.';\n",
              "          element.innerHTML = '';\n",
              "          dataTable['output_type'] = 'display_data';\n",
              "          await google.colab.output.renderOutput(dataTable, element);\n",
              "          const docLink = document.createElement('div');\n",
              "          docLink.innerHTML = docLinkHtml;\n",
              "          element.appendChild(docLink);\n",
              "        }\n",
              "      </script>\n",
              "    </div>\n",
              "  </div>\n",
              "  "
            ]
          },
          "metadata": {},
          "execution_count": 3
        }
      ],
      "source": [
        "df_train = pd.read_csv('/content/train.csv',index_col=0)\n",
        "df_train"
      ]
    },
    {
      "cell_type": "code",
      "source": [
        "df_test = pd.read_csv('/content/test.csv',index_col=0)\n",
        "df_test"
      ],
      "metadata": {
        "colab": {
          "base_uri": "https://localhost:8080/",
          "height": 0
        },
        "id": "4XUTT57IjZBf",
        "outputId": "d5fb3731-90b8-4944-c8ff-f2a3086c3af1"
      },
      "execution_count": 4,
      "outputs": [
        {
          "output_type": "execute_result",
          "data": {
            "text/plain": [
              "       margin1   margin2   margin3   margin4   margin5   margin6   margin7  \\\n",
              "id                                                                           \n",
              "4     0.019531  0.009766  0.078125  0.011719  0.003906  0.015625  0.005859   \n",
              "7     0.007812  0.005859  0.064453  0.009766  0.003906  0.013672  0.007812   \n",
              "9     0.000000  0.000000  0.001953  0.021484  0.041016  0.000000  0.023438   \n",
              "12    0.000000  0.000000  0.009766  0.011719  0.017578  0.000000  0.003906   \n",
              "13    0.001953  0.000000  0.015625  0.009766  0.039062  0.000000  0.009766   \n",
              "...        ...       ...       ...       ...       ...       ...       ...   \n",
              "1576  0.000000  0.000000  0.003906  0.015625  0.041016  0.000000  0.017578   \n",
              "1577  0.000000  0.003906  0.003906  0.005859  0.017578  0.000000  0.017578   \n",
              "1579  0.017578  0.029297  0.015625  0.013672  0.003906  0.015625  0.025391   \n",
              "1580  0.013672  0.009766  0.060547  0.025391  0.035156  0.025391  0.039062   \n",
              "1583  0.000000  0.117190  0.000000  0.019531  0.000000  0.136720  0.001953   \n",
              "\n",
              "       margin8   margin9  margin10  ...  texture55  texture56  texture57  \\\n",
              "id                                  ...                                    \n",
              "4     0.000000  0.005859  0.023438  ...   0.006836   0.000000   0.015625   \n",
              "7     0.000000  0.033203  0.023438  ...   0.000000   0.000000   0.006836   \n",
              "9     0.000000  0.011719  0.005859  ...   0.128910   0.000000   0.000977   \n",
              "12    0.000000  0.003906  0.001953  ...   0.012695   0.015625   0.002930   \n",
              "13    0.000000  0.005859  0.000000  ...   0.000000   0.042969   0.016602   \n",
              "...        ...       ...       ...  ...        ...        ...        ...   \n",
              "1576  0.000000  0.005859  0.013672  ...   0.098633   0.000000   0.004883   \n",
              "1577  0.005859  0.000000  0.005859  ...   0.012695   0.004883   0.004883   \n",
              "1579  0.000000  0.000000  0.009766  ...   0.073242   0.000000   0.028320   \n",
              "1580  0.000000  0.003906  0.023438  ...   0.003906   0.000000   0.000977   \n",
              "1583  0.005859  0.000000  0.007812  ...   0.107420   0.012695   0.016602   \n",
              "\n",
              "      texture58  texture59  texture60  texture61  texture62  texture63  \\\n",
              "id                                                                       \n",
              "4      0.000977   0.015625        0.0        0.0   0.000000   0.003906   \n",
              "7      0.001953   0.013672        0.0        0.0   0.000977   0.037109   \n",
              "9      0.000000   0.000000        0.0        0.0   0.015625   0.000000   \n",
              "12     0.036133   0.013672        0.0        0.0   0.089844   0.000000   \n",
              "13     0.010742   0.041016        0.0        0.0   0.007812   0.009766   \n",
              "...         ...        ...        ...        ...        ...        ...   \n",
              "1576   0.000000   0.003906        0.0        0.0   0.018555   0.000000   \n",
              "1577   0.002930   0.009766        0.0        0.0   0.090820   0.000000   \n",
              "1579   0.000000   0.001953        0.0        0.0   0.000000   0.042969   \n",
              "1580   0.000000   0.011719        0.0        0.0   0.000000   0.011719   \n",
              "1583   0.000977   0.004883        0.0        0.0   0.015625   0.000000   \n",
              "\n",
              "      texture64  \n",
              "id               \n",
              "4      0.053711  \n",
              "7      0.044922  \n",
              "9      0.000000  \n",
              "12     0.008789  \n",
              "13     0.007812  \n",
              "...         ...  \n",
              "1576   0.000977  \n",
              "1577   0.016602  \n",
              "1579   0.006836  \n",
              "1580   0.018555  \n",
              "1583   0.017578  \n",
              "\n",
              "[594 rows x 192 columns]"
            ],
            "text/html": [
              "\n",
              "  <div id=\"df-7984e5bb-1c7d-4bd6-a052-bcda9c4eae8c\">\n",
              "    <div class=\"colab-df-container\">\n",
              "      <div>\n",
              "<style scoped>\n",
              "    .dataframe tbody tr th:only-of-type {\n",
              "        vertical-align: middle;\n",
              "    }\n",
              "\n",
              "    .dataframe tbody tr th {\n",
              "        vertical-align: top;\n",
              "    }\n",
              "\n",
              "    .dataframe thead th {\n",
              "        text-align: right;\n",
              "    }\n",
              "</style>\n",
              "<table border=\"1\" class=\"dataframe\">\n",
              "  <thead>\n",
              "    <tr style=\"text-align: right;\">\n",
              "      <th></th>\n",
              "      <th>margin1</th>\n",
              "      <th>margin2</th>\n",
              "      <th>margin3</th>\n",
              "      <th>margin4</th>\n",
              "      <th>margin5</th>\n",
              "      <th>margin6</th>\n",
              "      <th>margin7</th>\n",
              "      <th>margin8</th>\n",
              "      <th>margin9</th>\n",
              "      <th>margin10</th>\n",
              "      <th>...</th>\n",
              "      <th>texture55</th>\n",
              "      <th>texture56</th>\n",
              "      <th>texture57</th>\n",
              "      <th>texture58</th>\n",
              "      <th>texture59</th>\n",
              "      <th>texture60</th>\n",
              "      <th>texture61</th>\n",
              "      <th>texture62</th>\n",
              "      <th>texture63</th>\n",
              "      <th>texture64</th>\n",
              "    </tr>\n",
              "    <tr>\n",
              "      <th>id</th>\n",
              "      <th></th>\n",
              "      <th></th>\n",
              "      <th></th>\n",
              "      <th></th>\n",
              "      <th></th>\n",
              "      <th></th>\n",
              "      <th></th>\n",
              "      <th></th>\n",
              "      <th></th>\n",
              "      <th></th>\n",
              "      <th></th>\n",
              "      <th></th>\n",
              "      <th></th>\n",
              "      <th></th>\n",
              "      <th></th>\n",
              "      <th></th>\n",
              "      <th></th>\n",
              "      <th></th>\n",
              "      <th></th>\n",
              "      <th></th>\n",
              "      <th></th>\n",
              "    </tr>\n",
              "  </thead>\n",
              "  <tbody>\n",
              "    <tr>\n",
              "      <th>4</th>\n",
              "      <td>0.019531</td>\n",
              "      <td>0.009766</td>\n",
              "      <td>0.078125</td>\n",
              "      <td>0.011719</td>\n",
              "      <td>0.003906</td>\n",
              "      <td>0.015625</td>\n",
              "      <td>0.005859</td>\n",
              "      <td>0.000000</td>\n",
              "      <td>0.005859</td>\n",
              "      <td>0.023438</td>\n",
              "      <td>...</td>\n",
              "      <td>0.006836</td>\n",
              "      <td>0.000000</td>\n",
              "      <td>0.015625</td>\n",
              "      <td>0.000977</td>\n",
              "      <td>0.015625</td>\n",
              "      <td>0.0</td>\n",
              "      <td>0.0</td>\n",
              "      <td>0.000000</td>\n",
              "      <td>0.003906</td>\n",
              "      <td>0.053711</td>\n",
              "    </tr>\n",
              "    <tr>\n",
              "      <th>7</th>\n",
              "      <td>0.007812</td>\n",
              "      <td>0.005859</td>\n",
              "      <td>0.064453</td>\n",
              "      <td>0.009766</td>\n",
              "      <td>0.003906</td>\n",
              "      <td>0.013672</td>\n",
              "      <td>0.007812</td>\n",
              "      <td>0.000000</td>\n",
              "      <td>0.033203</td>\n",
              "      <td>0.023438</td>\n",
              "      <td>...</td>\n",
              "      <td>0.000000</td>\n",
              "      <td>0.000000</td>\n",
              "      <td>0.006836</td>\n",
              "      <td>0.001953</td>\n",
              "      <td>0.013672</td>\n",
              "      <td>0.0</td>\n",
              "      <td>0.0</td>\n",
              "      <td>0.000977</td>\n",
              "      <td>0.037109</td>\n",
              "      <td>0.044922</td>\n",
              "    </tr>\n",
              "    <tr>\n",
              "      <th>9</th>\n",
              "      <td>0.000000</td>\n",
              "      <td>0.000000</td>\n",
              "      <td>0.001953</td>\n",
              "      <td>0.021484</td>\n",
              "      <td>0.041016</td>\n",
              "      <td>0.000000</td>\n",
              "      <td>0.023438</td>\n",
              "      <td>0.000000</td>\n",
              "      <td>0.011719</td>\n",
              "      <td>0.005859</td>\n",
              "      <td>...</td>\n",
              "      <td>0.128910</td>\n",
              "      <td>0.000000</td>\n",
              "      <td>0.000977</td>\n",
              "      <td>0.000000</td>\n",
              "      <td>0.000000</td>\n",
              "      <td>0.0</td>\n",
              "      <td>0.0</td>\n",
              "      <td>0.015625</td>\n",
              "      <td>0.000000</td>\n",
              "      <td>0.000000</td>\n",
              "    </tr>\n",
              "    <tr>\n",
              "      <th>12</th>\n",
              "      <td>0.000000</td>\n",
              "      <td>0.000000</td>\n",
              "      <td>0.009766</td>\n",
              "      <td>0.011719</td>\n",
              "      <td>0.017578</td>\n",
              "      <td>0.000000</td>\n",
              "      <td>0.003906</td>\n",
              "      <td>0.000000</td>\n",
              "      <td>0.003906</td>\n",
              "      <td>0.001953</td>\n",
              "      <td>...</td>\n",
              "      <td>0.012695</td>\n",
              "      <td>0.015625</td>\n",
              "      <td>0.002930</td>\n",
              "      <td>0.036133</td>\n",
              "      <td>0.013672</td>\n",
              "      <td>0.0</td>\n",
              "      <td>0.0</td>\n",
              "      <td>0.089844</td>\n",
              "      <td>0.000000</td>\n",
              "      <td>0.008789</td>\n",
              "    </tr>\n",
              "    <tr>\n",
              "      <th>13</th>\n",
              "      <td>0.001953</td>\n",
              "      <td>0.000000</td>\n",
              "      <td>0.015625</td>\n",
              "      <td>0.009766</td>\n",
              "      <td>0.039062</td>\n",
              "      <td>0.000000</td>\n",
              "      <td>0.009766</td>\n",
              "      <td>0.000000</td>\n",
              "      <td>0.005859</td>\n",
              "      <td>0.000000</td>\n",
              "      <td>...</td>\n",
              "      <td>0.000000</td>\n",
              "      <td>0.042969</td>\n",
              "      <td>0.016602</td>\n",
              "      <td>0.010742</td>\n",
              "      <td>0.041016</td>\n",
              "      <td>0.0</td>\n",
              "      <td>0.0</td>\n",
              "      <td>0.007812</td>\n",
              "      <td>0.009766</td>\n",
              "      <td>0.007812</td>\n",
              "    </tr>\n",
              "    <tr>\n",
              "      <th>...</th>\n",
              "      <td>...</td>\n",
              "      <td>...</td>\n",
              "      <td>...</td>\n",
              "      <td>...</td>\n",
              "      <td>...</td>\n",
              "      <td>...</td>\n",
              "      <td>...</td>\n",
              "      <td>...</td>\n",
              "      <td>...</td>\n",
              "      <td>...</td>\n",
              "      <td>...</td>\n",
              "      <td>...</td>\n",
              "      <td>...</td>\n",
              "      <td>...</td>\n",
              "      <td>...</td>\n",
              "      <td>...</td>\n",
              "      <td>...</td>\n",
              "      <td>...</td>\n",
              "      <td>...</td>\n",
              "      <td>...</td>\n",
              "      <td>...</td>\n",
              "    </tr>\n",
              "    <tr>\n",
              "      <th>1576</th>\n",
              "      <td>0.000000</td>\n",
              "      <td>0.000000</td>\n",
              "      <td>0.003906</td>\n",
              "      <td>0.015625</td>\n",
              "      <td>0.041016</td>\n",
              "      <td>0.000000</td>\n",
              "      <td>0.017578</td>\n",
              "      <td>0.000000</td>\n",
              "      <td>0.005859</td>\n",
              "      <td>0.013672</td>\n",
              "      <td>...</td>\n",
              "      <td>0.098633</td>\n",
              "      <td>0.000000</td>\n",
              "      <td>0.004883</td>\n",
              "      <td>0.000000</td>\n",
              "      <td>0.003906</td>\n",
              "      <td>0.0</td>\n",
              "      <td>0.0</td>\n",
              "      <td>0.018555</td>\n",
              "      <td>0.000000</td>\n",
              "      <td>0.000977</td>\n",
              "    </tr>\n",
              "    <tr>\n",
              "      <th>1577</th>\n",
              "      <td>0.000000</td>\n",
              "      <td>0.003906</td>\n",
              "      <td>0.003906</td>\n",
              "      <td>0.005859</td>\n",
              "      <td>0.017578</td>\n",
              "      <td>0.000000</td>\n",
              "      <td>0.017578</td>\n",
              "      <td>0.005859</td>\n",
              "      <td>0.000000</td>\n",
              "      <td>0.005859</td>\n",
              "      <td>...</td>\n",
              "      <td>0.012695</td>\n",
              "      <td>0.004883</td>\n",
              "      <td>0.004883</td>\n",
              "      <td>0.002930</td>\n",
              "      <td>0.009766</td>\n",
              "      <td>0.0</td>\n",
              "      <td>0.0</td>\n",
              "      <td>0.090820</td>\n",
              "      <td>0.000000</td>\n",
              "      <td>0.016602</td>\n",
              "    </tr>\n",
              "    <tr>\n",
              "      <th>1579</th>\n",
              "      <td>0.017578</td>\n",
              "      <td>0.029297</td>\n",
              "      <td>0.015625</td>\n",
              "      <td>0.013672</td>\n",
              "      <td>0.003906</td>\n",
              "      <td>0.015625</td>\n",
              "      <td>0.025391</td>\n",
              "      <td>0.000000</td>\n",
              "      <td>0.000000</td>\n",
              "      <td>0.009766</td>\n",
              "      <td>...</td>\n",
              "      <td>0.073242</td>\n",
              "      <td>0.000000</td>\n",
              "      <td>0.028320</td>\n",
              "      <td>0.000000</td>\n",
              "      <td>0.001953</td>\n",
              "      <td>0.0</td>\n",
              "      <td>0.0</td>\n",
              "      <td>0.000000</td>\n",
              "      <td>0.042969</td>\n",
              "      <td>0.006836</td>\n",
              "    </tr>\n",
              "    <tr>\n",
              "      <th>1580</th>\n",
              "      <td>0.013672</td>\n",
              "      <td>0.009766</td>\n",
              "      <td>0.060547</td>\n",
              "      <td>0.025391</td>\n",
              "      <td>0.035156</td>\n",
              "      <td>0.025391</td>\n",
              "      <td>0.039062</td>\n",
              "      <td>0.000000</td>\n",
              "      <td>0.003906</td>\n",
              "      <td>0.023438</td>\n",
              "      <td>...</td>\n",
              "      <td>0.003906</td>\n",
              "      <td>0.000000</td>\n",
              "      <td>0.000977</td>\n",
              "      <td>0.000000</td>\n",
              "      <td>0.011719</td>\n",
              "      <td>0.0</td>\n",
              "      <td>0.0</td>\n",
              "      <td>0.000000</td>\n",
              "      <td>0.011719</td>\n",
              "      <td>0.018555</td>\n",
              "    </tr>\n",
              "    <tr>\n",
              "      <th>1583</th>\n",
              "      <td>0.000000</td>\n",
              "      <td>0.117190</td>\n",
              "      <td>0.000000</td>\n",
              "      <td>0.019531</td>\n",
              "      <td>0.000000</td>\n",
              "      <td>0.136720</td>\n",
              "      <td>0.001953</td>\n",
              "      <td>0.005859</td>\n",
              "      <td>0.000000</td>\n",
              "      <td>0.007812</td>\n",
              "      <td>...</td>\n",
              "      <td>0.107420</td>\n",
              "      <td>0.012695</td>\n",
              "      <td>0.016602</td>\n",
              "      <td>0.000977</td>\n",
              "      <td>0.004883</td>\n",
              "      <td>0.0</td>\n",
              "      <td>0.0</td>\n",
              "      <td>0.015625</td>\n",
              "      <td>0.000000</td>\n",
              "      <td>0.017578</td>\n",
              "    </tr>\n",
              "  </tbody>\n",
              "</table>\n",
              "<p>594 rows × 192 columns</p>\n",
              "</div>\n",
              "      <button class=\"colab-df-convert\" onclick=\"convertToInteractive('df-7984e5bb-1c7d-4bd6-a052-bcda9c4eae8c')\"\n",
              "              title=\"Convert this dataframe to an interactive table.\"\n",
              "              style=\"display:none;\">\n",
              "        \n",
              "  <svg xmlns=\"http://www.w3.org/2000/svg\" height=\"24px\"viewBox=\"0 0 24 24\"\n",
              "       width=\"24px\">\n",
              "    <path d=\"M0 0h24v24H0V0z\" fill=\"none\"/>\n",
              "    <path d=\"M18.56 5.44l.94 2.06.94-2.06 2.06-.94-2.06-.94-.94-2.06-.94 2.06-2.06.94zm-11 1L8.5 8.5l.94-2.06 2.06-.94-2.06-.94L8.5 2.5l-.94 2.06-2.06.94zm10 10l.94 2.06.94-2.06 2.06-.94-2.06-.94-.94-2.06-.94 2.06-2.06.94z\"/><path d=\"M17.41 7.96l-1.37-1.37c-.4-.4-.92-.59-1.43-.59-.52 0-1.04.2-1.43.59L10.3 9.45l-7.72 7.72c-.78.78-.78 2.05 0 2.83L4 21.41c.39.39.9.59 1.41.59.51 0 1.02-.2 1.41-.59l7.78-7.78 2.81-2.81c.8-.78.8-2.07 0-2.86zM5.41 20L4 18.59l7.72-7.72 1.47 1.35L5.41 20z\"/>\n",
              "  </svg>\n",
              "      </button>\n",
              "      \n",
              "  <style>\n",
              "    .colab-df-container {\n",
              "      display:flex;\n",
              "      flex-wrap:wrap;\n",
              "      gap: 12px;\n",
              "    }\n",
              "\n",
              "    .colab-df-convert {\n",
              "      background-color: #E8F0FE;\n",
              "      border: none;\n",
              "      border-radius: 50%;\n",
              "      cursor: pointer;\n",
              "      display: none;\n",
              "      fill: #1967D2;\n",
              "      height: 32px;\n",
              "      padding: 0 0 0 0;\n",
              "      width: 32px;\n",
              "    }\n",
              "\n",
              "    .colab-df-convert:hover {\n",
              "      background-color: #E2EBFA;\n",
              "      box-shadow: 0px 1px 2px rgba(60, 64, 67, 0.3), 0px 1px 3px 1px rgba(60, 64, 67, 0.15);\n",
              "      fill: #174EA6;\n",
              "    }\n",
              "\n",
              "    [theme=dark] .colab-df-convert {\n",
              "      background-color: #3B4455;\n",
              "      fill: #D2E3FC;\n",
              "    }\n",
              "\n",
              "    [theme=dark] .colab-df-convert:hover {\n",
              "      background-color: #434B5C;\n",
              "      box-shadow: 0px 1px 3px 1px rgba(0, 0, 0, 0.15);\n",
              "      filter: drop-shadow(0px 1px 2px rgba(0, 0, 0, 0.3));\n",
              "      fill: #FFFFFF;\n",
              "    }\n",
              "  </style>\n",
              "\n",
              "      <script>\n",
              "        const buttonEl =\n",
              "          document.querySelector('#df-7984e5bb-1c7d-4bd6-a052-bcda9c4eae8c button.colab-df-convert');\n",
              "        buttonEl.style.display =\n",
              "          google.colab.kernel.accessAllowed ? 'block' : 'none';\n",
              "\n",
              "        async function convertToInteractive(key) {\n",
              "          const element = document.querySelector('#df-7984e5bb-1c7d-4bd6-a052-bcda9c4eae8c');\n",
              "          const dataTable =\n",
              "            await google.colab.kernel.invokeFunction('convertToInteractive',\n",
              "                                                     [key], {});\n",
              "          if (!dataTable) return;\n",
              "\n",
              "          const docLinkHtml = 'Like what you see? Visit the ' +\n",
              "            '<a target=\"_blank\" href=https://colab.research.google.com/notebooks/data_table.ipynb>data table notebook</a>'\n",
              "            + ' to learn more about interactive tables.';\n",
              "          element.innerHTML = '';\n",
              "          dataTable['output_type'] = 'display_data';\n",
              "          await google.colab.output.renderOutput(dataTable, element);\n",
              "          const docLink = document.createElement('div');\n",
              "          docLink.innerHTML = docLinkHtml;\n",
              "          element.appendChild(docLink);\n",
              "        }\n",
              "      </script>\n",
              "    </div>\n",
              "  </div>\n",
              "  "
            ]
          },
          "metadata": {},
          "execution_count": 4
        }
      ]
    },
    {
      "cell_type": "markdown",
      "source": [
        "#clean the data"
      ],
      "metadata": {
        "id": "-NspT_RUiIWb"
      }
    },
    {
      "cell_type": "code",
      "source": [
        "df_train['species'].value_counts()[:10]  # print first 10 species"
      ],
      "metadata": {
        "colab": {
          "base_uri": "https://localhost:8080/"
        },
        "id": "HezStOGLiLza",
        "outputId": "cb30522f-a47e-415d-e6e3-ffc9f1ad44e6"
      },
      "execution_count": 5,
      "outputs": [
        {
          "output_type": "execute_result",
          "data": {
            "text/plain": [
              "Acer_Opalus            10\n",
              "Crataegus_Monogyna     10\n",
              "Acer_Mono              10\n",
              "Magnolia_Heptapeta     10\n",
              "Acer_Capillipes        10\n",
              "Populus_Nigra          10\n",
              "Alnus_Cordata          10\n",
              "Tilia_Platyphyllos     10\n",
              "Eucalyptus_Neglecta    10\n",
              "Quercus_Chrysolepis    10\n",
              "Name: species, dtype: int64"
            ]
          },
          "metadata": {},
          "execution_count": 5
        }
      ]
    },
    {
      "cell_type": "markdown",
      "source": [
        "It is clear that all species have equal 10 samples * 99 species = 990 for training"
      ],
      "metadata": {
        "id": "WtynTU3viRGK"
      }
    },
    {
      "cell_type": "code",
      "source": [
        "#  Sample of the species\n",
        "fig = plt.figure(figsize =(10, 7))\n",
        "plt.pie(df_train['species'].value_counts()[:10],labels=df_train['species'][:10]);"
      ],
      "metadata": {
        "colab": {
          "base_uri": "https://localhost:8080/",
          "height": 411
        },
        "id": "ceDWixCplEo6",
        "outputId": "a8cdbf31-eac1-4849-c3d0-71a8f88c596e"
      },
      "execution_count": 7,
      "outputs": [
        {
          "output_type": "display_data",
          "data": {
            "text/plain": [
              "<Figure size 720x504 with 1 Axes>"
            ],
            "image/png": "[encoded data removed]"
          },
          "metadata": {}
        }
      ]
    },
    {
      "cell_type": "markdown",
      "source": [
        "#check for the missing or duplicates"
      ],
      "metadata": {
        "id": "f_UqHYH-HWbi"
      }
    },
    {
      "cell_type": "code",
      "source": [
        "df_train.isna().sum()"
      ],
      "metadata": {
        "id": "vocqml9Pjk0f",
        "colab": {
          "base_uri": "https://localhost:8080/"
        },
        "outputId": "4ad48fa3-4f8a-44dc-d46a-4aa7b7a2ff26"
      },
      "execution_count": 8,
      "outputs": [
        {
          "output_type": "execute_result",
          "data": {
            "text/plain": [
              "species      0\n",
              "margin1      0\n",
              "margin2      0\n",
              "margin3      0\n",
              "margin4      0\n",
              "            ..\n",
              "texture60    0\n",
              "texture61    0\n",
              "texture62    0\n",
              "texture63    0\n",
              "texture64    0\n",
              "Length: 193, dtype: int64"
            ]
          },
          "metadata": {},
          "execution_count": 8
        }
      ]
    },
    {
      "cell_type": "code",
      "source": [
        "df_train.isna().sum().sum()"
      ],
      "metadata": {
        "colab": {
          "base_uri": "https://localhost:8080/"
        },
        "id": "TvsAWsJnHbzJ",
        "outputId": "3a67f4ae-1c9a-4f23-9f26-d5738e5d563d"
      },
      "execution_count": 9,
      "outputs": [
        {
          "output_type": "execute_result",
          "data": {
            "text/plain": [
              "0"
            ]
          },
          "metadata": {},
          "execution_count": 9
        }
      ]
    },
    {
      "cell_type": "code",
      "source": [
        "df_test.isna().sum()"
      ],
      "metadata": {
        "colab": {
          "base_uri": "https://localhost:8080/"
        },
        "id": "lbUiXJb6HfRB",
        "outputId": "2b30d6e6-3a17-4ae9-9451-2f18dacd8703"
      },
      "execution_count": 10,
      "outputs": [
        {
          "output_type": "execute_result",
          "data": {
            "text/plain": [
              "margin1      0\n",
              "margin2      0\n",
              "margin3      0\n",
              "margin4      0\n",
              "margin5      0\n",
              "            ..\n",
              "texture60    0\n",
              "texture61    0\n",
              "texture62    0\n",
              "texture63    0\n",
              "texture64    0\n",
              "Length: 192, dtype: int64"
            ]
          },
          "metadata": {},
          "execution_count": 10
        }
      ]
    },
    {
      "cell_type": "code",
      "source": [
        "df_test.isna().sum().sum()"
      ],
      "metadata": {
        "colab": {
          "base_uri": "https://localhost:8080/"
        },
        "id": "AN2wzwlYHhYx",
        "outputId": "af1caddb-c530-43ed-a2fb-288f152a4337"
      },
      "execution_count": 11,
      "outputs": [
        {
          "output_type": "execute_result",
          "data": {
            "text/plain": [
              "0"
            ]
          },
          "metadata": {},
          "execution_count": 11
        }
      ]
    },
    {
      "cell_type": "code",
      "source": [
        "df_train.duplicated().sum()"
      ],
      "metadata": {
        "colab": {
          "base_uri": "https://localhost:8080/"
        },
        "id": "MvJtLRC2Hk_R",
        "outputId": "21ab7ecb-4666-4565-fcc3-f4571ab7711b"
      },
      "execution_count": 12,
      "outputs": [
        {
          "output_type": "execute_result",
          "data": {
            "text/plain": [
              "0"
            ]
          },
          "metadata": {},
          "execution_count": 12
        }
      ]
    },
    {
      "cell_type": "code",
      "source": [
        "df_test.duplicated().sum()"
      ],
      "metadata": {
        "colab": {
          "base_uri": "https://localhost:8080/"
        },
        "id": "jjylHg6AHme4",
        "outputId": "f276cd86-a4a5-4547-e136-6fade3578293"
      },
      "execution_count": 13,
      "outputs": [
        {
          "output_type": "execute_result",
          "data": {
            "text/plain": [
              "0"
            ]
          },
          "metadata": {},
          "execution_count": 13
        }
      ]
    },
    {
      "cell_type": "markdown",
      "source": [
        "#data visualization"
      ],
      "metadata": {
        "id": "1B5gWqtLaMqD"
      }
    },
    {
      "cell_type": "code",
      "source": [
        "margin = df_train.iloc[:,:64]\n",
        "texture = df_train.iloc[:,46:128]\n",
        "shape = df_train.iloc[:,128:]"
      ],
      "metadata": {
        "id": "m6NN7X_iaQzC"
      },
      "execution_count": 14,
      "outputs": []
    },
    {
      "cell_type": "code",
      "source": [
        "df_train.plot(x='margin1', y='texture1', kind='scatter')"
      ],
      "metadata": {
        "colab": {
          "base_uri": "https://localhost:8080/",
          "height": 351
        },
        "id": "39qWViF4aS3L",
        "outputId": "868dcbf9-1181-4022-d30c-a1f15b55d661"
      },
      "execution_count": 15,
      "outputs": [
        {
          "output_type": "stream",
          "name": "stderr",
          "text": [
            "/usr/local/lib/python3.9/dist-packages/pandas/plotting/_matplotlib/core.py:1114: UserWarning: No data for colormapping provided via 'c'. Parameters 'cmap' will be ignored\n",
            "  scatter = ax.scatter(\n"
          ]
        },
        {
          "output_type": "execute_result",
          "data": {
            "text/plain": [
              "<Axes: xlabel='margin1', ylabel='texture1'>"
            ]
          },
          "metadata": {},
          "execution_count": 15
        },
        {
          "output_type": "display_data",
          "data": {
            "text/plain": [
              "<Figure size 432x288 with 1 Axes>"
            ],
            "image/png": "[encoded data removed]"
          },
          "metadata": {
            "needs_background": "light"
          }
        }
      ]
    },
    {
      "cell_type": "code",
      "source": [
        "df_train.plot(x='margin1', y='shape1', kind='scatter')"
      ],
      "metadata": {
        "colab": {
          "base_uri": "https://localhost:8080/",
          "height": 300
        },
        "id": "g5Zq4ruuaUYp",
        "outputId": "caeaec82-4029-489f-a4f5-e3b878f2f91e"
      },
      "execution_count": 16,
      "outputs": [
        {
          "output_type": "execute_result",
          "data": {
            "text/plain": [
              "<Axes: xlabel='margin1', ylabel='shape1'>"
            ]
          },
          "metadata": {},
          "execution_count": 16
        },
        {
          "output_type": "display_data",
          "data": {
            "text/plain": [
              "<Figure size 432x288 with 1 Axes>"
            ],
            "image/png": "[encoded data removed]"
          },
          "metadata": {
            "needs_background": "light"
          }
        }
      ]
    },
    {
      "cell_type": "code",
      "source": [
        "df_train.plot(x='texture1', y='shape1', kind='scatter')"
      ],
      "metadata": {
        "colab": {
          "base_uri": "https://localhost:8080/",
          "height": 300
        },
        "id": "plWYmJO4aYxJ",
        "outputId": "29922747-c8d7-4ebb-9140-5b48a5f0f9d8"
      },
      "execution_count": 17,
      "outputs": [
        {
          "output_type": "execute_result",
          "data": {
            "text/plain": [
              "<Axes: xlabel='texture1', ylabel='shape1'>"
            ]
          },
          "metadata": {},
          "execution_count": 17
        },
        {
          "output_type": "display_data",
          "data": {
            "text/plain": [
              "<Figure size 432x288 with 1 Axes>"
            ],
            "image/png": "[encoded data removed]"
          },
          "metadata": {
            "needs_background": "light"
          }
        }
      ]
    },
    {
      "cell_type": "code",
      "source": [
        "with zipfile.ZipFile('/content/images.zip') as z_samp: z_samp.extractall()"
      ],
      "metadata": {
        "id": "i-ZDoy8CabSp"
      },
      "execution_count": 37,
      "outputs": []
    },
    {
      "cell_type": "code",
      "source": [
        "import matplotlib.pyplot as plt\n",
        "plt.figure(figsize=(20,15))\n",
        "import cv2 as cv\n",
        "from tensorflow.keras.preprocessing.image import load_img\n",
        "for i in range(15):\n",
        "    j=np.random.choice((os.listdir('images')))\n",
        "    plt.subplot(5,5,i+1)\n",
        "    img=load_img(os.path.join('images',j))\n",
        "    plt.imshow(img)\n"
      ],
      "metadata": {
        "colab": {
          "base_uri": "https://localhost:8080/",
          "height": 377
        },
        "id": "Z3Wa2gUmaq_p",
        "outputId": "12312565-e596-4523-b047-6b885f877c37"
      },
      "execution_count": 19,
      "outputs": [
        {
          "output_type": "display_data",
          "data": {
            "text/plain": [
              "<Figure size 1440x1080 with 15 Axes>"
            ],
            "image/png": "[encoded data removed]"
          },
          "metadata": {
            "needs_background": "light"
          }
        }
      ]
    },
    {
      "cell_type": "code",
      "source": [
        "len(os.listdir('images'))"
      ],
      "metadata": {
        "colab": {
          "base_uri": "https://localhost:8080/"
        },
        "id": "I_hgb569a43q",
        "outputId": "ebd813b3-8a73-45e0-dc37-4b74b941925d"
      },
      "execution_count": 20,
      "outputs": [
        {
          "output_type": "execute_result",
          "data": {
            "text/plain": [
              "1584"
            ]
          },
          "metadata": {},
          "execution_count": 20
        }
      ]
    },
    {
      "cell_type": "markdown",
      "source": [
        "#correlation analysis"
      ],
      "metadata": {
        "id": "K2sGI3mlis2s"
      }
    },
    {
      "cell_type": "code",
      "source": [
        "correlation_matrix= df_train.corr()\n",
        "correlation_matrix"
      ],
      "metadata": {
        "colab": {
          "base_uri": "https://localhost:8080/",
          "height": 488
        },
        "id": "OyNX-NxsixR7",
        "outputId": "00b496e0-2fc4-49d1-9ddc-f24b039fa574"
      },
      "execution_count": 21,
      "outputs": [
        {
          "output_type": "execute_result",
          "data": {
            "text/plain": [
              "            margin1   margin2   margin3   margin4   margin5   margin6  \\\n",
              "margin1    1.000000  0.806390 -0.182829 -0.297807 -0.475874  0.767718   \n",
              "margin2    0.806390  1.000000 -0.204640 -0.315953 -0.444312  0.825762   \n",
              "margin3   -0.182829 -0.204640  1.000000  0.120042 -0.185007 -0.163976   \n",
              "margin4   -0.297807 -0.315953  0.120042  1.000000  0.029480 -0.261437   \n",
              "margin5   -0.475874 -0.444312 -0.185007  0.029480  1.000000 -0.438587   \n",
              "...             ...       ...       ...       ...       ...       ...   \n",
              "texture60  0.035072  0.081069 -0.019850 -0.052317  0.006542  0.066262   \n",
              "texture61 -0.007581 -0.007057  0.084957  0.320644 -0.109229 -0.050498   \n",
              "texture62 -0.033159 -0.037405 -0.081999 -0.073886  0.151675 -0.031555   \n",
              "texture63 -0.075171 -0.098957 -0.148193  0.050970  0.022299 -0.132087   \n",
              "texture64  0.030414 -0.029532  0.061780  0.014343 -0.148834 -0.003164   \n",
              "\n",
              "            margin7   margin8   margin9  margin10  ...  texture55  texture56  \\\n",
              "margin1    0.066273 -0.094137 -0.181496  0.397138  ...   0.137158  -0.047771   \n",
              "margin2   -0.083273 -0.086428 -0.120276  0.162587  ...   0.154407  -0.021096   \n",
              "margin3    0.095449  0.024350 -0.000042  0.008772  ...   0.047347  -0.027618   \n",
              "margin4   -0.268271 -0.047693  0.227543 -0.173986  ...  -0.071974  -0.009537   \n",
              "margin5   -0.108178  0.056557  0.196745 -0.320647  ...  -0.165622   0.059135   \n",
              "...             ...       ...       ...       ...  ...        ...        ...   \n",
              "texture60 -0.034094  0.048647 -0.028292  0.020376  ...  -0.129365   0.004412   \n",
              "texture61 -0.163375 -0.079283  0.088517 -0.127373  ...  -0.002235   0.053707   \n",
              "texture62  0.015391 -0.048843 -0.031954 -0.014200  ...  -0.217239   0.171577   \n",
              "texture63 -0.001364  0.027758 -0.119494 -0.039193  ...  -0.207887   0.002057   \n",
              "texture64  0.068512 -0.003191 -0.097760  0.065964  ...  -0.095205  -0.095913   \n",
              "\n",
              "           texture57  texture58  texture59  texture60  texture61  texture62  \\\n",
              "margin1     0.126227  -0.024139  -0.168201   0.035072  -0.007581  -0.033159   \n",
              "margin2     0.123834  -0.063654  -0.157842   0.081069  -0.007057  -0.037405   \n",
              "margin3     0.007261  -0.021390   0.033505  -0.019850   0.084957  -0.081999   \n",
              "margin4    -0.050529  -0.044318   0.088857  -0.052317   0.320644  -0.073886   \n",
              "margin5     0.012938   0.155327   0.149420   0.006542  -0.109229   0.151675   \n",
              "...              ...        ...        ...        ...        ...        ...   \n",
              "texture60  -0.155187   0.240704  -0.183369   1.000000  -0.051838   0.265879   \n",
              "texture61  -0.072814  -0.084638  -0.023539  -0.051838   1.000000  -0.063582   \n",
              "texture62  -0.283316   0.563088  -0.128010   0.265879  -0.063582   1.000000   \n",
              "texture63  -0.064724  -0.059866   0.156568  -0.089679  -0.068065  -0.058189   \n",
              "texture64   0.224686  -0.269157  -0.015374  -0.190194   0.036374  -0.245527   \n",
              "\n",
              "           texture63  texture64  \n",
              "margin1    -0.075171   0.030414  \n",
              "margin2    -0.098957  -0.029532  \n",
              "margin3    -0.148193   0.061780  \n",
              "margin4     0.050970   0.014343  \n",
              "margin5     0.022299  -0.148834  \n",
              "...              ...        ...  \n",
              "texture60  -0.089679  -0.190194  \n",
              "texture61  -0.068065   0.036374  \n",
              "texture62  -0.058189  -0.245527  \n",
              "texture63   1.000000   0.029305  \n",
              "texture64   0.029305   1.000000  \n",
              "\n",
              "[192 rows x 192 columns]"
            ],
            "text/html": [
              "\n",
              "  <div id=\"df-084d36f0-439d-4e92-8bad-43c07c57b587\">\n",
              "    <div class=\"colab-df-container\">\n",
              "      <div>\n",
              "<style scoped>\n",
              "    .dataframe tbody tr th:only-of-type {\n",
              "        vertical-align: middle;\n",
              "    }\n",
              "\n",
              "    .dataframe tbody tr th {\n",
              "        vertical-align: top;\n",
              "    }\n",
              "\n",
              "    .dataframe thead th {\n",
              "        text-align: right;\n",
              "    }\n",
              "</style>\n",
              "<table border=\"1\" class=\"dataframe\">\n",
              "  <thead>\n",
              "    <tr style=\"text-align: right;\">\n",
              "      <th></th>\n",
              "      <th>margin1</th>\n",
              "      <th>margin2</th>\n",
              "      <th>margin3</th>\n",
              "      <th>margin4</th>\n",
              "      <th>margin5</th>\n",
              "      <th>margin6</th>\n",
              "      <th>margin7</th>\n",
              "      <th>margin8</th>\n",
              "      <th>margin9</th>\n",
              "      <th>margin10</th>\n",
              "      <th>...</th>\n",
              "      <th>texture55</th>\n",
              "      <th>texture56</th>\n",
              "      <th>texture57</th>\n",
              "      <th>texture58</th>\n",
              "      <th>texture59</th>\n",
              "      <th>texture60</th>\n",
              "      <th>texture61</th>\n",
              "      <th>texture62</th>\n",
              "      <th>texture63</th>\n",
              "      <th>texture64</th>\n",
              "    </tr>\n",
              "  </thead>\n",
              "  <tbody>\n",
              "    <tr>\n",
              "      <th>margin1</th>\n",
              "      <td>1.000000</td>\n",
              "      <td>0.806390</td>\n",
              "      <td>-0.182829</td>\n",
              "      <td>-0.297807</td>\n",
              "      <td>-0.475874</td>\n",
              "      <td>0.767718</td>\n",
              "      <td>0.066273</td>\n",
              "      <td>-0.094137</td>\n",
              "      <td>-0.181496</td>\n",
              "      <td>0.397138</td>\n",
              "      <td>...</td>\n",
              "      <td>0.137158</td>\n",
              "      <td>-0.047771</td>\n",
              "      <td>0.126227</td>\n",
              "      <td>-0.024139</td>\n",
              "      <td>-0.168201</td>\n",
              "      <td>0.035072</td>\n",
              "      <td>-0.007581</td>\n",
              "      <td>-0.033159</td>\n",
              "      <td>-0.075171</td>\n",
              "      <td>0.030414</td>\n",
              "    </tr>\n",
              "    <tr>\n",
              "      <th>margin2</th>\n",
              "      <td>0.806390</td>\n",
              "      <td>1.000000</td>\n",
              "      <td>-0.204640</td>\n",
              "      <td>-0.315953</td>\n",
              "      <td>-0.444312</td>\n",
              "      <td>0.825762</td>\n",
              "      <td>-0.083273</td>\n",
              "      <td>-0.086428</td>\n",
              "      <td>-0.120276</td>\n",
              "      <td>0.162587</td>\n",
              "      <td>...</td>\n",
              "      <td>0.154407</td>\n",
              "      <td>-0.021096</td>\n",
              "      <td>0.123834</td>\n",
              "      <td>-0.063654</td>\n",
              "      <td>-0.157842</td>\n",
              "      <td>0.081069</td>\n",
              "      <td>-0.007057</td>\n",
              "      <td>-0.037405</td>\n",
              "      <td>-0.098957</td>\n",
              "      <td>-0.029532</td>\n",
              "    </tr>\n",
              "    <tr>\n",
              "      <th>margin3</th>\n",
              "      <td>-0.182829</td>\n",
              "      <td>-0.204640</td>\n",
              "      <td>1.000000</td>\n",
              "      <td>0.120042</td>\n",
              "      <td>-0.185007</td>\n",
              "      <td>-0.163976</td>\n",
              "      <td>0.095449</td>\n",
              "      <td>0.024350</td>\n",
              "      <td>-0.000042</td>\n",
              "      <td>0.008772</td>\n",
              "      <td>...</td>\n",
              "      <td>0.047347</td>\n",
              "      <td>-0.027618</td>\n",
              "      <td>0.007261</td>\n",
              "      <td>-0.021390</td>\n",
              "      <td>0.033505</td>\n",
              "      <td>-0.019850</td>\n",
              "      <td>0.084957</td>\n",
              "      <td>-0.081999</td>\n",
              "      <td>-0.148193</td>\n",
              "      <td>0.061780</td>\n",
              "    </tr>\n",
              "    <tr>\n",
              "      <th>margin4</th>\n",
              "      <td>-0.297807</td>\n",
              "      <td>-0.315953</td>\n",
              "      <td>0.120042</td>\n",
              "      <td>1.000000</td>\n",
              "      <td>0.029480</td>\n",
              "      <td>-0.261437</td>\n",
              "      <td>-0.268271</td>\n",
              "      <td>-0.047693</td>\n",
              "      <td>0.227543</td>\n",
              "      <td>-0.173986</td>\n",
              "      <td>...</td>\n",
              "      <td>-0.071974</td>\n",
              "      <td>-0.009537</td>\n",
              "      <td>-0.050529</td>\n",
              "      <td>-0.044318</td>\n",
              "      <td>0.088857</td>\n",
              "      <td>-0.052317</td>\n",
              "      <td>0.320644</td>\n",
              "      <td>-0.073886</td>\n",
              "      <td>0.050970</td>\n",
              "      <td>0.014343</td>\n",
              "    </tr>\n",
              "    <tr>\n",
              "      <th>margin5</th>\n",
              "      <td>-0.475874</td>\n",
              "      <td>-0.444312</td>\n",
              "      <td>-0.185007</td>\n",
              "      <td>0.029480</td>\n",
              "      <td>1.000000</td>\n",
              "      <td>-0.438587</td>\n",
              "      <td>-0.108178</td>\n",
              "      <td>0.056557</td>\n",
              "      <td>0.196745</td>\n",
              "      <td>-0.320647</td>\n",
              "      <td>...</td>\n",
              "      <td>-0.165622</td>\n",
              "      <td>0.059135</td>\n",
              "      <td>0.012938</td>\n",
              "      <td>0.155327</td>\n",
              "      <td>0.149420</td>\n",
              "      <td>0.006542</td>\n",
              "      <td>-0.109229</td>\n",
              "      <td>0.151675</td>\n",
              "      <td>0.022299</td>\n",
              "      <td>-0.148834</td>\n",
              "    </tr>\n",
              "    <tr>\n",
              "      <th>...</th>\n",
              "      <td>...</td>\n",
              "      <td>...</td>\n",
              "      <td>...</td>\n",
              "      <td>...</td>\n",
              "      <td>...</td>\n",
              "      <td>...</td>\n",
              "      <td>...</td>\n",
              "      <td>...</td>\n",
              "      <td>...</td>\n",
              "      <td>...</td>\n",
              "      <td>...</td>\n",
              "      <td>...</td>\n",
              "      <td>...</td>\n",
              "      <td>...</td>\n",
              "      <td>...</td>\n",
              "      <td>...</td>\n",
              "      <td>...</td>\n",
              "      <td>...</td>\n",
              "      <td>...</td>\n",
              "      <td>...</td>\n",
              "      <td>...</td>\n",
              "    </tr>\n",
              "    <tr>\n",
              "      <th>texture60</th>\n",
              "      <td>0.035072</td>\n",
              "      <td>0.081069</td>\n",
              "      <td>-0.019850</td>\n",
              "      <td>-0.052317</td>\n",
              "      <td>0.006542</td>\n",
              "      <td>0.066262</td>\n",
              "      <td>-0.034094</td>\n",
              "      <td>0.048647</td>\n",
              "      <td>-0.028292</td>\n",
              "      <td>0.020376</td>\n",
              "      <td>...</td>\n",
              "      <td>-0.129365</td>\n",
              "      <td>0.004412</td>\n",
              "      <td>-0.155187</td>\n",
              "      <td>0.240704</td>\n",
              "      <td>-0.183369</td>\n",
              "      <td>1.000000</td>\n",
              "      <td>-0.051838</td>\n",
              "      <td>0.265879</td>\n",
              "      <td>-0.089679</td>\n",
              "      <td>-0.190194</td>\n",
              "    </tr>\n",
              "    <tr>\n",
              "      <th>texture61</th>\n",
              "      <td>-0.007581</td>\n",
              "      <td>-0.007057</td>\n",
              "      <td>0.084957</td>\n",
              "      <td>0.320644</td>\n",
              "      <td>-0.109229</td>\n",
              "      <td>-0.050498</td>\n",
              "      <td>-0.163375</td>\n",
              "      <td>-0.079283</td>\n",
              "      <td>0.088517</td>\n",
              "      <td>-0.127373</td>\n",
              "      <td>...</td>\n",
              "      <td>-0.002235</td>\n",
              "      <td>0.053707</td>\n",
              "      <td>-0.072814</td>\n",
              "      <td>-0.084638</td>\n",
              "      <td>-0.023539</td>\n",
              "      <td>-0.051838</td>\n",
              "      <td>1.000000</td>\n",
              "      <td>-0.063582</td>\n",
              "      <td>-0.068065</td>\n",
              "      <td>0.036374</td>\n",
              "    </tr>\n",
              "    <tr>\n",
              "      <th>texture62</th>\n",
              "      <td>-0.033159</td>\n",
              "      <td>-0.037405</td>\n",
              "      <td>-0.081999</td>\n",
              "      <td>-0.073886</td>\n",
              "      <td>0.151675</td>\n",
              "      <td>-0.031555</td>\n",
              "      <td>0.015391</td>\n",
              "      <td>-0.048843</td>\n",
              "      <td>-0.031954</td>\n",
              "      <td>-0.014200</td>\n",
              "      <td>...</td>\n",
              "      <td>-0.217239</td>\n",
              "      <td>0.171577</td>\n",
              "      <td>-0.283316</td>\n",
              "      <td>0.563088</td>\n",
              "      <td>-0.128010</td>\n",
              "      <td>0.265879</td>\n",
              "      <td>-0.063582</td>\n",
              "      <td>1.000000</td>\n",
              "      <td>-0.058189</td>\n",
              "      <td>-0.245527</td>\n",
              "    </tr>\n",
              "    <tr>\n",
              "      <th>texture63</th>\n",
              "      <td>-0.075171</td>\n",
              "      <td>-0.098957</td>\n",
              "      <td>-0.148193</td>\n",
              "      <td>0.050970</td>\n",
              "      <td>0.022299</td>\n",
              "      <td>-0.132087</td>\n",
              "      <td>-0.001364</td>\n",
              "      <td>0.027758</td>\n",
              "      <td>-0.119494</td>\n",
              "      <td>-0.039193</td>\n",
              "      <td>...</td>\n",
              "      <td>-0.207887</td>\n",
              "      <td>0.002057</td>\n",
              "      <td>-0.064724</td>\n",
              "      <td>-0.059866</td>\n",
              "      <td>0.156568</td>\n",
              "      <td>-0.089679</td>\n",
              "      <td>-0.068065</td>\n",
              "      <td>-0.058189</td>\n",
              "      <td>1.000000</td>\n",
              "      <td>0.029305</td>\n",
              "    </tr>\n",
              "    <tr>\n",
              "      <th>texture64</th>\n",
              "      <td>0.030414</td>\n",
              "      <td>-0.029532</td>\n",
              "      <td>0.061780</td>\n",
              "      <td>0.014343</td>\n",
              "      <td>-0.148834</td>\n",
              "      <td>-0.003164</td>\n",
              "      <td>0.068512</td>\n",
              "      <td>-0.003191</td>\n",
              "      <td>-0.097760</td>\n",
              "      <td>0.065964</td>\n",
              "      <td>...</td>\n",
              "      <td>-0.095205</td>\n",
              "      <td>-0.095913</td>\n",
              "      <td>0.224686</td>\n",
              "      <td>-0.269157</td>\n",
              "      <td>-0.015374</td>\n",
              "      <td>-0.190194</td>\n",
              "      <td>0.036374</td>\n",
              "      <td>-0.245527</td>\n",
              "      <td>0.029305</td>\n",
              "      <td>1.000000</td>\n",
              "    </tr>\n",
              "  </tbody>\n",
              "</table>\n",
              "<p>192 rows × 192 columns</p>\n",
              "</div>\n",
              "      <button class=\"colab-df-convert\" onclick=\"convertToInteractive('df-084d36f0-439d-4e92-8bad-43c07c57b587')\"\n",
              "              title=\"Convert this dataframe to an interactive table.\"\n",
              "              style=\"display:none;\">\n",
              "        \n",
              "  <svg xmlns=\"http://www.w3.org/2000/svg\" height=\"24px\"viewBox=\"0 0 24 24\"\n",
              "       width=\"24px\">\n",
              "    <path d=\"M0 0h24v24H0V0z\" fill=\"none\"/>\n",
              "    <path d=\"M18.56 5.44l.94 2.06.94-2.06 2.06-.94-2.06-.94-.94-2.06-.94 2.06-2.06.94zm-11 1L8.5 8.5l.94-2.06 2.06-.94-2.06-.94L8.5 2.5l-.94 2.06-2.06.94zm10 10l.94 2.06.94-2.06 2.06-.94-2.06-.94-.94-2.06-.94 2.06-2.06.94z\"/><path d=\"M17.41 7.96l-1.37-1.37c-.4-.4-.92-.59-1.43-.59-.52 0-1.04.2-1.43.59L10.3 9.45l-7.72 7.72c-.78.78-.78 2.05 0 2.83L4 21.41c.39.39.9.59 1.41.59.51 0 1.02-.2 1.41-.59l7.78-7.78 2.81-2.81c.8-.78.8-2.07 0-2.86zM5.41 20L4 18.59l7.72-7.72 1.47 1.35L5.41 20z\"/>\n",
              "  </svg>\n",
              "      </button>\n",
              "      \n",
              "  <style>\n",
              "    .colab-df-container {\n",
              "      display:flex;\n",
              "      flex-wrap:wrap;\n",
              "      gap: 12px;\n",
              "    }\n",
              "\n",
              "    .colab-df-convert {\n",
              "      background-color: #E8F0FE;\n",
              "      border: none;\n",
              "      border-radius: 50%;\n",
              "      cursor: pointer;\n",
              "      display: none;\n",
              "      fill: #1967D2;\n",
              "      height: 32px;\n",
              "      padding: 0 0 0 0;\n",
              "      width: 32px;\n",
              "    }\n",
              "\n",
              "    .colab-df-convert:hover {\n",
              "      background-color: #E2EBFA;\n",
              "      box-shadow: 0px 1px 2px rgba(60, 64, 67, 0.3), 0px 1px 3px 1px rgba(60, 64, 67, 0.15);\n",
              "      fill: #174EA6;\n",
              "    }\n",
              "\n",
              "    [theme=dark] .colab-df-convert {\n",
              "      background-color: #3B4455;\n",
              "      fill: #D2E3FC;\n",
              "    }\n",
              "\n",
              "    [theme=dark] .colab-df-convert:hover {\n",
              "      background-color: #434B5C;\n",
              "      box-shadow: 0px 1px 3px 1px rgba(0, 0, 0, 0.15);\n",
              "      filter: drop-shadow(0px 1px 2px rgba(0, 0, 0, 0.3));\n",
              "      fill: #FFFFFF;\n",
              "    }\n",
              "  </style>\n",
              "\n",
              "      <script>\n",
              "        const buttonEl =\n",
              "          document.querySelector('#df-084d36f0-439d-4e92-8bad-43c07c57b587 button.colab-df-convert');\n",
              "        buttonEl.style.display =\n",
              "          google.colab.kernel.accessAllowed ? 'block' : 'none';\n",
              "\n",
              "        async function convertToInteractive(key) {\n",
              "          const element = document.querySelector('#df-084d36f0-439d-4e92-8bad-43c07c57b587');\n",
              "          const dataTable =\n",
              "            await google.colab.kernel.invokeFunction('convertToInteractive',\n",
              "                                                     [key], {});\n",
              "          if (!dataTable) return;\n",
              "\n",
              "          const docLinkHtml = 'Like what you see? Visit the ' +\n",
              "            '<a target=\"_blank\" href=https://colab.research.google.com/notebooks/data_table.ipynb>data table notebook</a>'\n",
              "            + ' to learn more about interactive tables.';\n",
              "          element.innerHTML = '';\n",
              "          dataTable['output_type'] = 'display_data';\n",
              "          await google.colab.output.renderOutput(dataTable, element);\n",
              "          const docLink = document.createElement('div');\n",
              "          docLink.innerHTML = docLinkHtml;\n",
              "          element.appendChild(docLink);\n",
              "        }\n",
              "      </script>\n",
              "    </div>\n",
              "  </div>\n",
              "  "
            ]
          },
          "metadata": {},
          "execution_count": 21
        }
      ]
    },
    {
      "cell_type": "code",
      "source": [
        "correlation_matrix1= df_test.corr()\n",
        "correlation_matrix1"
      ],
      "metadata": {
        "colab": {
          "base_uri": "https://localhost:8080/",
          "height": 488
        },
        "id": "Iqq1ITNRi5nL",
        "outputId": "f202de53-dda2-4cae-c937-aae1b8e71de3"
      },
      "execution_count": 22,
      "outputs": [
        {
          "output_type": "execute_result",
          "data": {
            "text/plain": [
              "            margin1   margin2   margin3   margin4   margin5   margin6  \\\n",
              "margin1    1.000000  0.773549 -0.179688 -0.314669 -0.489724  0.758771   \n",
              "margin2    0.773549  1.000000 -0.228772 -0.312056 -0.476718  0.839972   \n",
              "margin3   -0.179688 -0.228772  1.000000  0.164221 -0.205369 -0.175065   \n",
              "margin4   -0.314669 -0.312056  0.164221  1.000000  0.018378 -0.266132   \n",
              "margin5   -0.489724 -0.476718 -0.205369  0.018378  1.000000 -0.455129   \n",
              "...             ...       ...       ...       ...       ...       ...   \n",
              "texture60  0.153934  0.151150 -0.036324 -0.046185 -0.025405  0.110988   \n",
              "texture61 -0.054816 -0.066164  0.128882  0.337250 -0.103416 -0.081673   \n",
              "texture62  0.010933 -0.028058 -0.061109 -0.078419  0.126172 -0.037976   \n",
              "texture63 -0.043275 -0.092966 -0.147547 -0.010801  0.006287 -0.089921   \n",
              "texture64  0.026005 -0.008868 -0.019413 -0.004705 -0.173556  0.046455   \n",
              "\n",
              "            margin7   margin8   margin9  margin10  ...  texture55  texture56  \\\n",
              "margin1    0.109006 -0.124012 -0.206356  0.428822  ...   0.095548  -0.085175   \n",
              "margin2   -0.055350 -0.089673 -0.164098  0.176159  ...   0.160932  -0.073517   \n",
              "margin3    0.019900 -0.022426  0.043036 -0.029816  ...   0.071901   0.060990   \n",
              "margin4   -0.307664 -0.105205  0.235059 -0.217483  ...  -0.101321  -0.021906   \n",
              "margin5   -0.086207  0.049554  0.185162 -0.320386  ...  -0.159061   0.053379   \n",
              "...             ...       ...       ...       ...  ...        ...        ...   \n",
              "texture60 -0.030828  0.012588 -0.038042  0.018067  ...  -0.114019   0.003775   \n",
              "texture61 -0.186244 -0.073920  0.095002 -0.149181  ...  -0.015190   0.031717   \n",
              "texture62 -0.022211  0.000104 -0.057942  0.003667  ...  -0.212793   0.175092   \n",
              "texture63  0.064795  0.000549 -0.149321  0.105641  ...  -0.231096  -0.050280   \n",
              "texture64  0.046681  0.013802 -0.095424  0.093366  ...  -0.127655  -0.119383   \n",
              "\n",
              "           texture57  texture58  texture59  texture60  texture61  texture62  \\\n",
              "margin1     0.119563   0.026546  -0.213600   0.153934  -0.054816   0.010933   \n",
              "margin2     0.160765  -0.041497  -0.205489   0.151150  -0.066164  -0.028058   \n",
              "margin3    -0.105442  -0.015316   0.044178  -0.036324   0.128882  -0.061109   \n",
              "margin4    -0.027073  -0.078067   0.066583  -0.046185   0.337250  -0.078419   \n",
              "margin5     0.008987   0.105663   0.257331  -0.025405  -0.103416   0.126172   \n",
              "...              ...        ...        ...        ...        ...        ...   \n",
              "texture60  -0.140901   0.171537  -0.167058   1.000000  -0.048102   0.235210   \n",
              "texture61  -0.045883  -0.092276   0.007776  -0.048102   1.000000  -0.066475   \n",
              "texture62  -0.319452   0.616210  -0.110914   0.235210  -0.066475   1.000000   \n",
              "texture63  -0.022197  -0.031069   0.083541  -0.080099  -0.065108  -0.056610   \n",
              "texture64   0.207494  -0.304614   0.030935  -0.183907   0.072695  -0.284343   \n",
              "\n",
              "           texture63  texture64  \n",
              "margin1    -0.043275   0.026005  \n",
              "margin2    -0.092966  -0.008868  \n",
              "margin3    -0.147547  -0.019413  \n",
              "margin4    -0.010801  -0.004705  \n",
              "margin5     0.006287  -0.173556  \n",
              "...              ...        ...  \n",
              "texture60  -0.080099  -0.183907  \n",
              "texture61  -0.065108   0.072695  \n",
              "texture62  -0.056610  -0.284343  \n",
              "texture63   1.000000   0.126769  \n",
              "texture64   0.126769   1.000000  \n",
              "\n",
              "[192 rows x 192 columns]"
            ],
            "text/html": [
              "\n",
              "  <div id=\"df-e0760343-789d-427f-b888-115719c0fe46\">\n",
              "    <div class=\"colab-df-container\">\n",
              "      <div>\n",
              "<style scoped>\n",
              "    .dataframe tbody tr th:only-of-type {\n",
              "        vertical-align: middle;\n",
              "    }\n",
              "\n",
              "    .dataframe tbody tr th {\n",
              "        vertical-align: top;\n",
              "    }\n",
              "\n",
              "    .dataframe thead th {\n",
              "        text-align: right;\n",
              "    }\n",
              "</style>\n",
              "<table border=\"1\" class=\"dataframe\">\n",
              "  <thead>\n",
              "    <tr style=\"text-align: right;\">\n",
              "      <th></th>\n",
              "      <th>margin1</th>\n",
              "      <th>margin2</th>\n",
              "      <th>margin3</th>\n",
              "      <th>margin4</th>\n",
              "      <th>margin5</th>\n",
              "      <th>margin6</th>\n",
              "      <th>margin7</th>\n",
              "      <th>margin8</th>\n",
              "      <th>margin9</th>\n",
              "      <th>margin10</th>\n",
              "      <th>...</th>\n",
              "      <th>texture55</th>\n",
              "      <th>texture56</th>\n",
              "      <th>texture57</th>\n",
              "      <th>texture58</th>\n",
              "      <th>texture59</th>\n",
              "      <th>texture60</th>\n",
              "      <th>texture61</th>\n",
              "      <th>texture62</th>\n",
              "      <th>texture63</th>\n",
              "      <th>texture64</th>\n",
              "    </tr>\n",
              "  </thead>\n",
              "  <tbody>\n",
              "    <tr>\n",
              "      <th>margin1</th>\n",
              "      <td>1.000000</td>\n",
              "      <td>0.773549</td>\n",
              "      <td>-0.179688</td>\n",
              "      <td>-0.314669</td>\n",
              "      <td>-0.489724</td>\n",
              "      <td>0.758771</td>\n",
              "      <td>0.109006</td>\n",
              "      <td>-0.124012</td>\n",
              "      <td>-0.206356</td>\n",
              "      <td>0.428822</td>\n",
              "      <td>...</td>\n",
              "      <td>0.095548</td>\n",
              "      <td>-0.085175</td>\n",
              "      <td>0.119563</td>\n",
              "      <td>0.026546</td>\n",
              "      <td>-0.213600</td>\n",
              "      <td>0.153934</td>\n",
              "      <td>-0.054816</td>\n",
              "      <td>0.010933</td>\n",
              "      <td>-0.043275</td>\n",
              "      <td>0.026005</td>\n",
              "    </tr>\n",
              "    <tr>\n",
              "      <th>margin2</th>\n",
              "      <td>0.773549</td>\n",
              "      <td>1.000000</td>\n",
              "      <td>-0.228772</td>\n",
              "      <td>-0.312056</td>\n",
              "      <td>-0.476718</td>\n",
              "      <td>0.839972</td>\n",
              "      <td>-0.055350</td>\n",
              "      <td>-0.089673</td>\n",
              "      <td>-0.164098</td>\n",
              "      <td>0.176159</td>\n",
              "      <td>...</td>\n",
              "      <td>0.160932</td>\n",
              "      <td>-0.073517</td>\n",
              "      <td>0.160765</td>\n",
              "      <td>-0.041497</td>\n",
              "      <td>-0.205489</td>\n",
              "      <td>0.151150</td>\n",
              "      <td>-0.066164</td>\n",
              "      <td>-0.028058</td>\n",
              "      <td>-0.092966</td>\n",
              "      <td>-0.008868</td>\n",
              "    </tr>\n",
              "    <tr>\n",
              "      <th>margin3</th>\n",
              "      <td>-0.179688</td>\n",
              "      <td>-0.228772</td>\n",
              "      <td>1.000000</td>\n",
              "      <td>0.164221</td>\n",
              "      <td>-0.205369</td>\n",
              "      <td>-0.175065</td>\n",
              "      <td>0.019900</td>\n",
              "      <td>-0.022426</td>\n",
              "      <td>0.043036</td>\n",
              "      <td>-0.029816</td>\n",
              "      <td>...</td>\n",
              "      <td>0.071901</td>\n",
              "      <td>0.060990</td>\n",
              "      <td>-0.105442</td>\n",
              "      <td>-0.015316</td>\n",
              "      <td>0.044178</td>\n",
              "      <td>-0.036324</td>\n",
              "      <td>0.128882</td>\n",
              "      <td>-0.061109</td>\n",
              "      <td>-0.147547</td>\n",
              "      <td>-0.019413</td>\n",
              "    </tr>\n",
              "    <tr>\n",
              "      <th>margin4</th>\n",
              "      <td>-0.314669</td>\n",
              "      <td>-0.312056</td>\n",
              "      <td>0.164221</td>\n",
              "      <td>1.000000</td>\n",
              "      <td>0.018378</td>\n",
              "      <td>-0.266132</td>\n",
              "      <td>-0.307664</td>\n",
              "      <td>-0.105205</td>\n",
              "      <td>0.235059</td>\n",
              "      <td>-0.217483</td>\n",
              "      <td>...</td>\n",
              "      <td>-0.101321</td>\n",
              "      <td>-0.021906</td>\n",
              "      <td>-0.027073</td>\n",
              "      <td>-0.078067</td>\n",
              "      <td>0.066583</td>\n",
              "      <td>-0.046185</td>\n",
              "      <td>0.337250</td>\n",
              "      <td>-0.078419</td>\n",
              "      <td>-0.010801</td>\n",
              "      <td>-0.004705</td>\n",
              "    </tr>\n",
              "    <tr>\n",
              "      <th>margin5</th>\n",
              "      <td>-0.489724</td>\n",
              "      <td>-0.476718</td>\n",
              "      <td>-0.205369</td>\n",
              "      <td>0.018378</td>\n",
              "      <td>1.000000</td>\n",
              "      <td>-0.455129</td>\n",
              "      <td>-0.086207</td>\n",
              "      <td>0.049554</td>\n",
              "      <td>0.185162</td>\n",
              "      <td>-0.320386</td>\n",
              "      <td>...</td>\n",
              "      <td>-0.159061</td>\n",
              "      <td>0.053379</td>\n",
              "      <td>0.008987</td>\n",
              "      <td>0.105663</td>\n",
              "      <td>0.257331</td>\n",
              "      <td>-0.025405</td>\n",
              "      <td>-0.103416</td>\n",
              "      <td>0.126172</td>\n",
              "      <td>0.006287</td>\n",
              "      <td>-0.173556</td>\n",
              "    </tr>\n",
              "    <tr>\n",
              "      <th>...</th>\n",
              "      <td>...</td>\n",
              "      <td>...</td>\n",
              "      <td>...</td>\n",
              "      <td>...</td>\n",
              "      <td>...</td>\n",
              "      <td>...</td>\n",
              "      <td>...</td>\n",
              "      <td>...</td>\n",
              "      <td>...</td>\n",
              "      <td>...</td>\n",
              "      <td>...</td>\n",
              "      <td>...</td>\n",
              "      <td>...</td>\n",
              "      <td>...</td>\n",
              "      <td>...</td>\n",
              "      <td>...</td>\n",
              "      <td>...</td>\n",
              "      <td>...</td>\n",
              "      <td>...</td>\n",
              "      <td>...</td>\n",
              "      <td>...</td>\n",
              "    </tr>\n",
              "    <tr>\n",
              "      <th>texture60</th>\n",
              "      <td>0.153934</td>\n",
              "      <td>0.151150</td>\n",
              "      <td>-0.036324</td>\n",
              "      <td>-0.046185</td>\n",
              "      <td>-0.025405</td>\n",
              "      <td>0.110988</td>\n",
              "      <td>-0.030828</td>\n",
              "      <td>0.012588</td>\n",
              "      <td>-0.038042</td>\n",
              "      <td>0.018067</td>\n",
              "      <td>...</td>\n",
              "      <td>-0.114019</td>\n",
              "      <td>0.003775</td>\n",
              "      <td>-0.140901</td>\n",
              "      <td>0.171537</td>\n",
              "      <td>-0.167058</td>\n",
              "      <td>1.000000</td>\n",
              "      <td>-0.048102</td>\n",
              "      <td>0.235210</td>\n",
              "      <td>-0.080099</td>\n",
              "      <td>-0.183907</td>\n",
              "    </tr>\n",
              "    <tr>\n",
              "      <th>texture61</th>\n",
              "      <td>-0.054816</td>\n",
              "      <td>-0.066164</td>\n",
              "      <td>0.128882</td>\n",
              "      <td>0.337250</td>\n",
              "      <td>-0.103416</td>\n",
              "      <td>-0.081673</td>\n",
              "      <td>-0.186244</td>\n",
              "      <td>-0.073920</td>\n",
              "      <td>0.095002</td>\n",
              "      <td>-0.149181</td>\n",
              "      <td>...</td>\n",
              "      <td>-0.015190</td>\n",
              "      <td>0.031717</td>\n",
              "      <td>-0.045883</td>\n",
              "      <td>-0.092276</td>\n",
              "      <td>0.007776</td>\n",
              "      <td>-0.048102</td>\n",
              "      <td>1.000000</td>\n",
              "      <td>-0.066475</td>\n",
              "      <td>-0.065108</td>\n",
              "      <td>0.072695</td>\n",
              "    </tr>\n",
              "    <tr>\n",
              "      <th>texture62</th>\n",
              "      <td>0.010933</td>\n",
              "      <td>-0.028058</td>\n",
              "      <td>-0.061109</td>\n",
              "      <td>-0.078419</td>\n",
              "      <td>0.126172</td>\n",
              "      <td>-0.037976</td>\n",
              "      <td>-0.022211</td>\n",
              "      <td>0.000104</td>\n",
              "      <td>-0.057942</td>\n",
              "      <td>0.003667</td>\n",
              "      <td>...</td>\n",
              "      <td>-0.212793</td>\n",
              "      <td>0.175092</td>\n",
              "      <td>-0.319452</td>\n",
              "      <td>0.616210</td>\n",
              "      <td>-0.110914</td>\n",
              "      <td>0.235210</td>\n",
              "      <td>-0.066475</td>\n",
              "      <td>1.000000</td>\n",
              "      <td>-0.056610</td>\n",
              "      <td>-0.284343</td>\n",
              "    </tr>\n",
              "    <tr>\n",
              "      <th>texture63</th>\n",
              "      <td>-0.043275</td>\n",
              "      <td>-0.092966</td>\n",
              "      <td>-0.147547</td>\n",
              "      <td>-0.010801</td>\n",
              "      <td>0.006287</td>\n",
              "      <td>-0.089921</td>\n",
              "      <td>0.064795</td>\n",
              "      <td>0.000549</td>\n",
              "      <td>-0.149321</td>\n",
              "      <td>0.105641</td>\n",
              "      <td>...</td>\n",
              "      <td>-0.231096</td>\n",
              "      <td>-0.050280</td>\n",
              "      <td>-0.022197</td>\n",
              "      <td>-0.031069</td>\n",
              "      <td>0.083541</td>\n",
              "      <td>-0.080099</td>\n",
              "      <td>-0.065108</td>\n",
              "      <td>-0.056610</td>\n",
              "      <td>1.000000</td>\n",
              "      <td>0.126769</td>\n",
              "    </tr>\n",
              "    <tr>\n",
              "      <th>texture64</th>\n",
              "      <td>0.026005</td>\n",
              "      <td>-0.008868</td>\n",
              "      <td>-0.019413</td>\n",
              "      <td>-0.004705</td>\n",
              "      <td>-0.173556</td>\n",
              "      <td>0.046455</td>\n",
              "      <td>0.046681</td>\n",
              "      <td>0.013802</td>\n",
              "      <td>-0.095424</td>\n",
              "      <td>0.093366</td>\n",
              "      <td>...</td>\n",
              "      <td>-0.127655</td>\n",
              "      <td>-0.119383</td>\n",
              "      <td>0.207494</td>\n",
              "      <td>-0.304614</td>\n",
              "      <td>0.030935</td>\n",
              "      <td>-0.183907</td>\n",
              "      <td>0.072695</td>\n",
              "      <td>-0.284343</td>\n",
              "      <td>0.126769</td>\n",
              "      <td>1.000000</td>\n",
              "    </tr>\n",
              "  </tbody>\n",
              "</table>\n",
              "<p>192 rows × 192 columns</p>\n",
              "</div>\n",
              "      <button class=\"colab-df-convert\" onclick=\"convertToInteractive('df-e0760343-789d-427f-b888-115719c0fe46')\"\n",
              "              title=\"Convert this dataframe to an interactive table.\"\n",
              "              style=\"display:none;\">\n",
              "        \n",
              "  <svg xmlns=\"http://www.w3.org/2000/svg\" height=\"24px\"viewBox=\"0 0 24 24\"\n",
              "       width=\"24px\">\n",
              "    <path d=\"M0 0h24v24H0V0z\" fill=\"none\"/>\n",
              "    <path d=\"M18.56 5.44l.94 2.06.94-2.06 2.06-.94-2.06-.94-.94-2.06-.94 2.06-2.06.94zm-11 1L8.5 8.5l.94-2.06 2.06-.94-2.06-.94L8.5 2.5l-.94 2.06-2.06.94zm10 10l.94 2.06.94-2.06 2.06-.94-2.06-.94-.94-2.06-.94 2.06-2.06.94z\"/><path d=\"M17.41 7.96l-1.37-1.37c-.4-.4-.92-.59-1.43-.59-.52 0-1.04.2-1.43.59L10.3 9.45l-7.72 7.72c-.78.78-.78 2.05 0 2.83L4 21.41c.39.39.9.59 1.41.59.51 0 1.02-.2 1.41-.59l7.78-7.78 2.81-2.81c.8-.78.8-2.07 0-2.86zM5.41 20L4 18.59l7.72-7.72 1.47 1.35L5.41 20z\"/>\n",
              "  </svg>\n",
              "      </button>\n",
              "      \n",
              "  <style>\n",
              "    .colab-df-container {\n",
              "      display:flex;\n",
              "      flex-wrap:wrap;\n",
              "      gap: 12px;\n",
              "    }\n",
              "\n",
              "    .colab-df-convert {\n",
              "      background-color: #E8F0FE;\n",
              "      border: none;\n",
              "      border-radius: 50%;\n",
              "      cursor: pointer;\n",
              "      display: none;\n",
              "      fill: #1967D2;\n",
              "      height: 32px;\n",
              "      padding: 0 0 0 0;\n",
              "      width: 32px;\n",
              "    }\n",
              "\n",
              "    .colab-df-convert:hover {\n",
              "      background-color: #E2EBFA;\n",
              "      box-shadow: 0px 1px 2px rgba(60, 64, 67, 0.3), 0px 1px 3px 1px rgba(60, 64, 67, 0.15);\n",
              "      fill: #174EA6;\n",
              "    }\n",
              "\n",
              "    [theme=dark] .colab-df-convert {\n",
              "      background-color: #3B4455;\n",
              "      fill: #D2E3FC;\n",
              "    }\n",
              "\n",
              "    [theme=dark] .colab-df-convert:hover {\n",
              "      background-color: #434B5C;\n",
              "      box-shadow: 0px 1px 3px 1px rgba(0, 0, 0, 0.15);\n",
              "      filter: drop-shadow(0px 1px 2px rgba(0, 0, 0, 0.3));\n",
              "      fill: #FFFFFF;\n",
              "    }\n",
              "  </style>\n",
              "\n",
              "      <script>\n",
              "        const buttonEl =\n",
              "          document.querySelector('#df-e0760343-789d-427f-b888-115719c0fe46 button.colab-df-convert');\n",
              "        buttonEl.style.display =\n",
              "          google.colab.kernel.accessAllowed ? 'block' : 'none';\n",
              "\n",
              "        async function convertToInteractive(key) {\n",
              "          const element = document.querySelector('#df-e0760343-789d-427f-b888-115719c0fe46');\n",
              "          const dataTable =\n",
              "            await google.colab.kernel.invokeFunction('convertToInteractive',\n",
              "                                                     [key], {});\n",
              "          if (!dataTable) return;\n",
              "\n",
              "          const docLinkHtml = 'Like what you see? Visit the ' +\n",
              "            '<a target=\"_blank\" href=https://colab.research.google.com/notebooks/data_table.ipynb>data table notebook</a>'\n",
              "            + ' to learn more about interactive tables.';\n",
              "          element.innerHTML = '';\n",
              "          dataTable['output_type'] = 'display_data';\n",
              "          await google.colab.output.renderOutput(dataTable, element);\n",
              "          const docLink = document.createElement('div');\n",
              "          docLink.innerHTML = docLinkHtml;\n",
              "          element.appendChild(docLink);\n",
              "        }\n",
              "      </script>\n",
              "    </div>\n",
              "  </div>\n",
              "  "
            ]
          },
          "metadata": {},
          "execution_count": 22
        }
      ]
    },
    {
      "cell_type": "markdown",
      "source": [
        "#Encode the labels\n"
      ],
      "metadata": {
        "id": "s2k4tZAzbYBL"
      }
    },
    {
      "cell_type": "code",
      "source": [
        "X = df_train.drop('species',axis = 1)\n",
        "y=df_train['species']"
      ],
      "metadata": {
        "id": "8ahpelmRk7Er"
      },
      "execution_count": 23,
      "outputs": []
    },
    {
      "cell_type": "code",
      "source": [
        "from numpy import argmax\n",
        "from keras.utils import to_categorical\n",
        "from sklearn.preprocessing import LabelEncoder\n",
        "label_encoder = LabelEncoder()\n",
        "y = label_encoder.fit_transform(y)\n"
      ],
      "metadata": {
        "id": "1od0kF7ibUnp"
      },
      "execution_count": 24,
      "outputs": []
    },
    {
      "cell_type": "markdown",
      "source": [
        "#splitting the data"
      ],
      "metadata": {
        "id": "OA1j_whfjr9K"
      }
    },
    {
      "cell_type": "code",
      "source": [
        "X_tr, X_val, y_tr, y_val = train_test_split(X,y,stratify=y,test_size = 0.2,random_state=42)"
      ],
      "metadata": {
        "id": "paUNnhe7bhj6"
      },
      "execution_count": 25,
      "outputs": []
    },
    {
      "cell_type": "markdown",
      "source": [
        "#the mean and standard deviation for each feature"
      ],
      "metadata": {
        "id": "ySxKZ61Po64s"
      }
    },
    {
      "cell_type": "code",
      "source": [
        "mean = np.mean(X)\n",
        "std = np.std(X)\n",
        "zscores = (X-mean)/std\n",
        "print(zscores)"
      ],
      "metadata": {
        "colab": {
          "base_uri": "https://localhost:8080/"
        },
        "id": "t1SaXtcYpOly",
        "outputId": "7a4f6505-ca08-4387-eb24-e6802f6e8d3c"
      },
      "execution_count": 26,
      "outputs": [
        {
          "output_type": "stream",
          "name": "stdout",
          "text": [
            "       margin1   margin2   margin3   margin4   margin5   margin6   margin7  \\\n",
            "id                                                                           \n",
            "1    -0.486611 -0.131357 -0.330956 -0.682244 -0.138444 -0.554066  0.465218   \n",
            "2    -0.585602 -0.734880 -0.028561 -0.269558  0.605389 -0.704306  0.018812   \n",
            "3    -0.585602 -0.483408 -0.482192 -0.544694 -0.563515 -0.629196  2.808662   \n",
            "5    -0.882575 -0.634302 -0.330956 -0.613469  0.392826 -0.366289  0.242044   \n",
            "6    -0.585602 -0.634302  0.651866 -0.475883 -0.032190 -0.441400 -0.762355   \n",
            "...        ...       ...       ...       ...       ...       ...       ...   \n",
            "1575  2.186354  2.332949 -0.935823 -0.682244 -0.776023  2.112575 -0.092775   \n",
            "1578 -0.783584 -0.634302 -0.406593  2.963011 -0.669769 -0.741862 -1.097116   \n",
            "1581 -0.783584 -0.634302 -1.238218 -0.063233  3.474413 -0.666751 -0.650767   \n",
            "1582 -0.882575 -0.734880  0.576267  1.174824 -0.244698 -0.741862 -1.097116   \n",
            "1584  0.305420 -0.231961 -0.028561 -0.269558 -0.457261 -0.366289  0.911567   \n",
            "\n",
            "       margin8   margin9  margin10  ...  texture55  texture56  texture57  \\\n",
            "id                                  ...                                    \n",
            "1    -0.395064 -0.584019  0.906636  ...  -0.452710  -0.260149  -0.560872   \n",
            "2    -0.395064 -0.802765 -0.674054  ...  -0.560567  -0.260149  -0.687151   \n",
            "3    -0.395064 -0.802765  1.636190  ...   1.858873  -0.260149  -0.434636   \n",
            "5    -0.395064  0.728566 -0.066082  ...  -0.575984  -0.209558  -0.687151   \n",
            "6    -0.395064 -0.802765 -0.795636  ...   0.949628  -0.260149   0.238782   \n",
            "...        ...       ...       ...  ...        ...        ...        ...   \n",
            "1575 -0.395064 -0.584019  1.514608  ...   3.245778  -0.260149   0.785964   \n",
            "1578 -0.395064  2.478642 -0.917218  ...   2.120821  -0.260149   0.112546   \n",
            "1581 -0.395064 -0.365274 -1.160382  ...  -0.498930  -0.209558  -0.476700   \n",
            "1582 -0.395064  3.353624 -1.038800  ...   0.733884   1.307466  -0.645044   \n",
            "1584 -0.395064 -0.365274  1.271382  ...  -0.575984  -0.260149  -0.560872   \n",
            "\n",
            "      texture58  texture59  texture60  texture61  texture62  texture63  \\\n",
            "id                                                                       \n",
            "1     -0.345848   1.242752  -0.233151  -0.235610  -0.394871  -0.652143   \n",
            "2     -0.423884   0.478218  -0.233151  -0.235610  -0.494974   2.181670   \n",
            "3     -0.423884  -0.541291  -0.233151  -0.235610  -0.520012   0.835641   \n",
            "5     -0.462921   0.287052  -0.233151  -0.235610  -0.069525  -0.652143   \n",
            "6     -0.462921  -1.050981  -0.233151  -0.235610  -0.520012  -0.652143   \n",
            "...         ...        ...        ...        ...        ...        ...   \n",
            "1575  -0.462921  -0.350125  -0.233151  -0.235610  -0.520012  -0.652143   \n",
            "1578  -0.462921  -0.286381  -0.233151  -0.235610  -0.494974  -0.652143   \n",
            "1581   0.629651   0.032207  -0.103212  -0.235610   0.180757  -0.652143   \n",
            "1582  -0.345848  -0.095280  -0.233151   3.445062  -0.520012  -0.510460   \n",
            "1584  -0.462921  -0.222703  -0.233151  -0.235610   0.080654   1.189886   \n",
            "\n",
            "      texture64  \n",
            "id               \n",
            "1      0.262397  \n",
            "2      0.133641  \n",
            "3     -0.724631  \n",
            "5      1.249425  \n",
            "6      0.519866  \n",
            "...         ...  \n",
            "1575  -0.038005  \n",
            "1578   0.090707  \n",
            "1581  -0.767565  \n",
            "1582  -0.724631  \n",
            "1584   0.133641  \n",
            "\n",
            "[990 rows x 192 columns]\n"
          ]
        },
        {
          "output_type": "stream",
          "name": "stderr",
          "text": [
            "/usr/local/lib/python3.9/dist-packages/numpy/core/fromnumeric.py:3472: FutureWarning: In a future version, DataFrame.mean(axis=None) will return a scalar mean over the entire DataFrame. To retain the old behavior, use 'frame.mean(axis=0)' or just 'frame.mean()'\n",
            "  return mean(axis=axis, dtype=dtype, out=out, **kwargs)\n"
          ]
        }
      ]
    },
    {
      "cell_type": "code",
      "source": [
        "mean"
      ],
      "metadata": {
        "colab": {
          "base_uri": "https://localhost:8080/"
        },
        "id": "ZDYc5fbYpxor",
        "outputId": "f0b06da2-7428-4a46-b560-4bc3783e9103"
      },
      "execution_count": 27,
      "outputs": [
        {
          "output_type": "execute_result",
          "data": {
            "text/plain": [
              "margin1      0.017412\n",
              "margin2      0.028539\n",
              "margin3      0.031988\n",
              "margin4      0.023280\n",
              "margin5      0.014264\n",
              "               ...   \n",
              "texture60    0.014017\n",
              "texture61    0.002688\n",
              "texture62    0.020291\n",
              "texture63    0.008989\n",
              "texture64    0.019420\n",
              "Length: 192, dtype: float64"
            ]
          },
          "metadata": {},
          "execution_count": 27
        }
      ]
    },
    {
      "cell_type": "code",
      "source": [
        "std"
      ],
      "metadata": {
        "colab": {
          "base_uri": "https://localhost:8080/"
        },
        "id": "e1suVry4ptmK",
        "outputId": "7e21ee20-3083-4b85-fd7c-e3d258060aa1"
      },
      "execution_count": 28,
      "outputs": [
        {
          "output_type": "execute_result",
          "data": {
            "text/plain": [
              "margin1      0.019729\n",
              "margin2      0.038835\n",
              "margin3      0.025834\n",
              "margin4      0.028397\n",
              "margin5      0.018380\n",
              "               ...   \n",
              "texture60    0.060120\n",
              "texture61    0.011409\n",
              "texture62    0.039020\n",
              "texture63    0.013784\n",
              "texture64    0.022756\n",
              "Length: 192, dtype: float64"
            ]
          },
          "metadata": {},
          "execution_count": 28
        }
      ]
    },
    {
      "cell_type": "code",
      "source": [
        "X_tr = StandardScaler().fit_transform(X_tr)\n",
        "X_val =  StandardScaler().fit_transform(X_val)\n"
      ],
      "metadata": {
        "id": "z9y1kcT_pzfL"
      },
      "execution_count": 29,
      "outputs": []
    },
    {
      "cell_type": "code",
      "source": [
        "X_tr.mean(axis=0)"
      ],
      "metadata": {
        "colab": {
          "base_uri": "https://localhost:8080/"
        },
        "id": "yu_1xX1fq0eb",
        "outputId": "3706cb41-e9fd-43fe-e782-6fd4e4384239"
      },
      "execution_count": 30,
      "outputs": [
        {
          "output_type": "execute_result",
          "data": {
            "text/plain": [
              "array([ 0.00000000e+00,  2.69144976e-17,  1.36815363e-16,  1.02611522e-16,\n",
              "       -5.04646829e-17,  1.16629489e-16, -6.28004943e-17, -1.79429984e-17,\n",
              "       -8.97149919e-17,  5.15861203e-17,  2.69144976e-17, -9.86864911e-17,\n",
              "        3.14002472e-17, -4.59789333e-17, -6.72862439e-17,  0.00000000e+00,\n",
              "       -2.06344481e-16,  5.15861203e-17, -2.91573724e-17, -1.12143740e-17,\n",
              "       -8.07434927e-17, -1.19993802e-16, -4.48574959e-18, -2.29894667e-17,\n",
              "       -2.13073106e-17, -1.70458485e-16,  2.24287480e-17, -1.05415115e-16,\n",
              "       -1.79429984e-17, -6.50433691e-17,  1.45786862e-16, -6.84076813e-17,\n",
              "       -8.97149919e-18, -5.60718699e-18,  5.83147447e-17, -5.83147447e-17,\n",
              "       -3.81288716e-17,  8.97149919e-17,  0.00000000e+00,  4.93432455e-17,\n",
              "       -2.69144976e-17,  2.80359350e-17,  6.72862439e-18, -1.07657990e-16,\n",
              "       -1.07657990e-16, -1.00929366e-16,  8.97149919e-18, -1.30086738e-16,\n",
              "       -2.24287480e-17, -4.48574959e-18, -1.79429984e-16,  3.47645594e-17,\n",
              "       -2.31016104e-16, -5.49504325e-17,  2.69144976e-17, -1.23358114e-17,\n",
              "       -5.38289951e-17,  1.30086738e-16,  9.86864911e-17, -1.98494420e-16,\n",
              "        3.14002472e-17,  1.73822797e-17,  2.01858732e-16, -1.05415115e-16,\n",
              "        3.78485122e-16,  1.86158608e-16,  1.00929366e-16,  5.49504325e-17,\n",
              "        1.86158608e-16,  3.40916969e-16, -2.42230478e-16,  2.08587356e-16,\n",
              "       -3.49888468e-16,  1.05415115e-16,  8.74721171e-17, -1.00929366e-16,\n",
              "       -1.81672859e-16, -2.98302348e-16,  4.48574959e-17, -7.62577431e-17,\n",
              "       -1.79429984e-16, -1.99615857e-16, -1.79429984e-17,  1.34572488e-17,\n",
              "        3.14002472e-17, -1.34572488e-17, -1.09900865e-16,  1.39058237e-16,\n",
              "        1.34572488e-16, -1.70458485e-16, -2.37744729e-16,  3.90260215e-16,\n",
              "        5.03525392e-16,  2.38866166e-16,  1.70458485e-16, -1.88401483e-16,\n",
              "        1.21115239e-16, -4.48574959e-17, -4.14931837e-16, -8.97149919e-18,\n",
              "        1.41301112e-16,  1.79429984e-17, -1.90644358e-16, -1.57001236e-17,\n",
              "       -8.97149919e-17, -1.34572488e-17, -2.33258979e-16, -1.27843863e-16,\n",
              "        1.57001236e-16, -4.48574959e-17,  2.75873600e-16,  1.65972735e-16,\n",
              "        6.50433691e-17, -2.15315981e-16,  4.14931837e-17,  2.48959102e-16,\n",
              "        1.62608423e-16, -2.11951668e-16,  9.86864911e-17,  1.43543987e-16,\n",
              "       -6.05576195e-17,  2.65780663e-16, -3.65588592e-16,  3.58859968e-17,\n",
              "       -3.06152410e-16,  2.53444852e-16,  5.00161080e-16,  2.27651792e-16,\n",
              "       -1.57001236e-17, -6.84076813e-17,  1.79429984e-17,  7.17719935e-17,\n",
              "        1.12143740e-17, -9.42007415e-17, -2.01858732e-17,  3.81288716e-17,\n",
              "        5.60718699e-17,  5.38289951e-17, -1.79429984e-17, -1.12143740e-18,\n",
              "        3.14002472e-17, -5.38289951e-17, -1.79429984e-17,  9.86864911e-17,\n",
              "       -6.28004943e-17,  2.24287480e-17,  1.00929366e-17, -6.05576195e-17,\n",
              "        2.01858732e-17, -9.19578667e-17, -6.95291187e-17, -1.79429984e-17,\n",
              "       -1.12143740e-18,  6.05576195e-17, -9.47614602e-17, -1.07657990e-16,\n",
              "       -2.46716228e-17,  4.03717464e-17,  1.23358114e-17, -3.58859968e-17,\n",
              "        8.07434927e-17, -2.24287480e-17, -1.65972735e-16,  2.01858732e-17,\n",
              "        6.95291187e-17, -1.32329613e-16, -5.38289951e-17, -5.83147447e-17,\n",
              "       -5.60718699e-19, -4.03717464e-17,  1.31208176e-16, -7.62577431e-17,\n",
              "        4.26146211e-17, -1.25881348e-16,  4.48574959e-18,  8.29863675e-17,\n",
              "        5.27075577e-17, -7.17719935e-17, -2.69144976e-17, -6.28004943e-17,\n",
              "        4.48574959e-17,  0.00000000e+00,  2.35501854e-17,  4.03717464e-17,\n",
              "       -3.14002472e-17,  2.24287480e-17, -1.97372982e-16,  2.80359350e-17,\n",
              "       -2.91573724e-17,  8.97149919e-18,  4.93432455e-17, -1.54197642e-16])"
            ]
          },
          "metadata": {},
          "execution_count": 30
        }
      ]
    },
    {
      "cell_type": "code",
      "source": [
        "X_val.std(axis=0)"
      ],
      "metadata": {
        "colab": {
          "base_uri": "https://localhost:8080/"
        },
        "id": "YIb0Upujq3ra",
        "outputId": "3f6d9799-eca2-47ed-f505-93444311387c"
      },
      "execution_count": 31,
      "outputs": [
        {
          "output_type": "execute_result",
          "data": {
            "text/plain": [
              "array([1., 1., 1., 1., 1., 1., 1., 1., 1., 1., 1., 1., 1., 1., 1., 1., 1.,\n",
              "       1., 1., 1., 1., 1., 1., 1., 1., 1., 1., 1., 1., 1., 1., 1., 1., 1.,\n",
              "       1., 1., 1., 1., 1., 1., 1., 1., 1., 1., 1., 1., 1., 1., 1., 1., 1.,\n",
              "       1., 1., 1., 1., 1., 1., 1., 1., 1., 1., 1., 1., 1., 1., 1., 1., 1.,\n",
              "       1., 1., 1., 1., 1., 1., 1., 1., 1., 1., 1., 1., 1., 1., 1., 1., 1.,\n",
              "       1., 1., 1., 1., 1., 1., 1., 1., 1., 1., 1., 1., 1., 1., 1., 1., 1.,\n",
              "       1., 1., 1., 1., 1., 1., 1., 1., 1., 1., 1., 1., 1., 1., 1., 1., 1.,\n",
              "       1., 1., 1., 1., 1., 1., 1., 1., 1., 1., 1., 1., 1., 1., 1., 1., 1.,\n",
              "       1., 1., 1., 1., 1., 1., 1., 1., 1., 1., 1., 1., 1., 1., 1., 1., 1.,\n",
              "       1., 1., 1., 1., 1., 1., 1., 1., 1., 1., 1., 1., 1., 1., 1., 1., 1.,\n",
              "       1., 1., 1., 1., 1., 1., 1., 1., 1., 1., 1., 1., 1., 1., 1., 1., 1.,\n",
              "       1., 1., 1., 1., 1.])"
            ]
          },
          "metadata": {},
          "execution_count": 31
        }
      ]
    },
    {
      "cell_type": "markdown",
      "source": [
        "#part2: training a neural netwrok \n"
      ],
      "metadata": {
        "id": "E25TcjBDmvFz"
      }
    },
    {
      "cell_type": "code",
      "source": [
        "def scheduler(epoch, lr):\n",
        "   if epoch < 10:\n",
        "     return lr\n",
        "   else:\n",
        "     return lr * tf.math.exp(-0.1)"
      ],
      "metadata": {
        "id": "czQFmdUHmlRc"
      },
      "execution_count": 32,
      "outputs": []
    },
    {
      "cell_type": "code",
      "source": [
        "callback = tf.keras.callbacks.LearningRateScheduler(scheduler)"
      ],
      "metadata": {
        "id": "8Pz9xqzulIVq"
      },
      "execution_count": 33,
      "outputs": []
    },
    {
      "cell_type": "code",
      "source": [
        "#build model function\n",
        "def model_(neurons,l_2,dropOut,opti,epoch,batchSize,lR):\n",
        "  model = Sequential()\n",
        "  model.add(Dense(neurons,input_dim=192, kernel_initializer='glorot_normal', activation='tanh',kernel_regularizer=regularizers.l2(l_2)))\n",
        "  model.add(Dropout(dropOut))\n",
        "  model.add(Dense(99, activation='softmax'))\n",
        "  \n",
        "  model.compile(optimizer=opti, loss='sparse_categorical_crossentropy', metrics=['accuracy'])\n",
        "  if lR==0:\n",
        "    m=model.fit(X_tr, y_tr, epochs=epoch, batch_size=batchSize,verbose=0,callbacks=[callback] ,validation_data=(X_val,y_val))\n",
        "  else:\n",
        "    m=model.fit(X_tr, y_tr, epochs=epoch, batch_size=batchSize,verbose=0 ,validation_data=(X_val,y_val))\n",
        "\n",
        "  loss, acc = model.evaluate(X_val, y_val)\n",
        "  print(loss, acc)\n",
        "\n",
        "  plt.style.use(\"ggplot\")\n",
        "  plt.figure()\n",
        "  plt.plot(np.arange(0, epoch), m.history[\"loss\"], label=\"train_loss\")\n",
        "  plt.plot(np.arange(0, epoch), m.history[\"val_loss\"], label=\"val_loss\")\n",
        "  plt.plot(np.arange(0, epoch), m.history[\"accuracy\"], label=\"train_acc\")\n",
        "  plt.plot(np.arange(0, epoch), m.history[\"val_accuracy\"], label=\"val_acc\")\n",
        "  plt.title(\"Training Loss and Accuracy\")\n",
        "  plt.xlabel(\"Epoch \")\n",
        "  plt.ylabel(\"Loss/Accuracy\")\n",
        "  plt.legend(loc=\"lower left\")\n",
        "  plt.savefig(\"plot1.png\")"
      ],
      "metadata": {
        "id": "t7Y0wq6MtSQs"
      },
      "execution_count": 47,
      "outputs": []
    },
    {
      "cell_type": "markdown",
      "source": [
        "#training with Adam optimizer"
      ],
      "metadata": {
        "id": "TKHcFg-a4GEd"
      }
    },
    {
      "cell_type": "code",
      "source": [
        "#neurons,l_2,dropOut,opti,epoch,batchSize,lR\n",
        "# neurons: \n",
        "# L2: between 0 and 0.1  , (0.1, 0.001, 0.0001)\n",
        "# DROPOUT:  between 0.5 and 0.8\n",
        "#epoches : 10 to 1000 \n",
        "# batch size:   16, 32, and 64  \n",
        "# LR: 0.1 AND 0.001"
      ],
      "metadata": {
        "id": "hrsyNtL4Je8O"
      },
      "execution_count": null,
      "outputs": []
    },
    {
      "cell_type": "code",
      "source": [
        "model_(512,0.1,0.6,tf.keras.optimizers.Adam(),200,32,0.01) "
      ],
      "metadata": {
        "colab": {
          "base_uri": "https://localhost:8080/",
          "height": 334
        },
        "id": "Kw5qKK-MuIBr",
        "outputId": "da34654e-2993-4f2c-af80-0bf31660f9e8"
      },
      "execution_count": 58,
      "outputs": [
        {
          "output_type": "stream",
          "name": "stdout",
          "text": [
            "7/7 [==============================] - 0s 3ms/step - loss: 0.5150 - accuracy: 0.9697\n",
            "0.5150083303451538 0.9696969985961914\n"
          ]
        },
        {
          "output_type": "display_data",
          "data": {
            "text/plain": [
              "<Figure size 432x288 with 1 Axes>"
            ],
            "image/png": "[encoded data removed]"
          },
          "metadata": {}
        }
      ]
    },
    {
      "cell_type": "code",
      "source": [
        "model_(700,0.1,0.7,tf.keras.optimizers.Adam(),200,16,0) #with learning rate scheduler"
      ],
      "metadata": {
        "colab": {
          "base_uri": "https://localhost:8080/",
          "height": 334
        },
        "id": "169f2sw9uM2I",
        "outputId": "af417cef-7c12-4adc-c5f8-c773c3dd6de7"
      },
      "execution_count": 61,
      "outputs": [
        {
          "output_type": "stream",
          "name": "stdout",
          "text": [
            "7/7 [==============================] - 0s 4ms/step - loss: 0.8558 - accuracy: 0.9848\n",
            "0.8558123707771301 0.9848484992980957\n"
          ]
        },
        {
          "output_type": "display_data",
          "data": {
            "text/plain": [
              "<Figure size 432x288 with 1 Axes>"
            ],
            "image/png": "[encoded data removed]"
          },
          "metadata": {}
        }
      ]
    },
    {
      "cell_type": "code",
      "source": [
        "model_(3000,0.1,0.5,tf.keras.optimizers.Adam(),100,32,0.01)"
      ],
      "metadata": {
        "colab": {
          "base_uri": "https://localhost:8080/",
          "height": 334
        },
        "id": "K_cWJgqH30Or",
        "outputId": "5fc6dd92-3e8d-4e3e-f66c-ddc83c30104d"
      },
      "execution_count": 62,
      "outputs": [
        {
          "output_type": "stream",
          "name": "stdout",
          "text": [
            "7/7 [==============================] - 0s 6ms/step - loss: 0.9286 - accuracy: 0.9343\n",
            "0.9285567402839661 0.9343434572219849\n"
          ]
        },
        {
          "output_type": "display_data",
          "data": {
            "text/plain": [
              "<Figure size 432x288 with 1 Axes>"
            ],
            "image/png": "[encoded data removed]"
          },
          "metadata": {}
        }
      ]
    },
    {
      "cell_type": "code",
      "source": [
        "model_(600,0.01,0.4,tf.keras.optimizers.Adam(),100,64,0.01)"
      ],
      "metadata": {
        "colab": {
          "base_uri": "https://localhost:8080/",
          "height": 334
        },
        "id": "oyZ-_FHP36X6",
        "outputId": "f3c5d7c8-68f5-49be-a337-27753d27f659"
      },
      "execution_count": 64,
      "outputs": [
        {
          "output_type": "stream",
          "name": "stdout",
          "text": [
            "7/7 [==============================] - 0s 4ms/step - loss: 0.2167 - accuracy: 0.9848\n",
            "0.2167118787765503 0.9848484992980957\n"
          ]
        },
        {
          "output_type": "display_data",
          "data": {
            "text/plain": [
              "<Figure size 432x288 with 1 Axes>"
            ],
            "image/png": "[encoded data removed]"
          },
          "metadata": {}
        }
      ]
    },
    {
      "cell_type": "markdown",
      "source": [
        "#training with SGD optimizer"
      ],
      "metadata": {
        "id": "_wlhOYQU4NBU"
      }
    },
    {
      "cell_type": "code",
      "source": [
        "#neurons,l_2,dropOut,opti,epoch,batchSize,lR\n",
        "# neurons: \n",
        "# L2: between 0 and 0.1  , (0.1, 0.001, 0.0001)\n",
        "# DROPOUT:  between 0.5 and 0.8\n",
        "#epoches : 10 to 1000 \n",
        "# batch size:   16, 32, and 64  \n",
        "# LR: 0.1 AND 0.001\n"
      ],
      "metadata": {
        "id": "zeUDF5I_6EWE"
      },
      "execution_count": null,
      "outputs": []
    },
    {
      "cell_type": "code",
      "source": [
        "model_(1092,0.01,0.4,tf.keras.optimizers.Adam(),200,32,0.001)\n"
      ],
      "metadata": {
        "colab": {
          "base_uri": "https://localhost:8080/",
          "height": 334
        },
        "id": "nw6zFGWs-x-d",
        "outputId": "ec04a427-5978-4e73-a3cb-4ad7a1421077"
      },
      "execution_count": 48,
      "outputs": [
        {
          "output_type": "stream",
          "name": "stdout",
          "text": [
            "7/7 [==============================] - 0s 5ms/step - loss: 0.3449 - accuracy: 0.9747\n",
            "0.34486615657806396 0.9747474789619446\n"
          ]
        },
        {
          "output_type": "display_data",
          "data": {
            "text/plain": [
              "<Figure size 432x288 with 1 Axes>"
            ],
            "image/png": "[encoded data removed]"
          },
          "metadata": {}
        }
      ]
    },
    {
      "cell_type": "code",
      "source": [
        "model_(1092,0.01,0.4,tf.keras.optimizers.SGD(),20,32,0) #with learning rate scheduler"
      ],
      "metadata": {
        "colab": {
          "base_uri": "https://localhost:8080/",
          "height": 334
        },
        "id": "7q_tLQOR4YO9",
        "outputId": "850a8296-ddaf-432e-c9a0-de6ebe651b3c"
      },
      "execution_count": 42,
      "outputs": [
        {
          "output_type": "stream",
          "name": "stdout",
          "text": [
            "7/7 [==============================] - 0s 4ms/step - loss: 3.5813 - accuracy: 0.9848\n",
            "3.581268548965454 0.9848484992980957\n"
          ]
        },
        {
          "output_type": "display_data",
          "data": {
            "text/plain": [
              "<Figure size 432x288 with 1 Axes>"
            ],
            "image/png": "[encoded data removed]"
          },
          "metadata": {}
        }
      ]
    },
    {
      "cell_type": "code",
      "source": [
        "model_(800,0.0001,0.6,tf.keras.optimizers.SGD(),200,32,0.001)"
      ],
      "metadata": {
        "colab": {
          "base_uri": "https://localhost:8080/",
          "height": 334
        },
        "id": "KxAGhSzU4AsF",
        "outputId": "e7e1ec2e-7234-4f6a-df0a-8e18d295141f"
      },
      "execution_count": 45,
      "outputs": [
        {
          "output_type": "stream",
          "name": "stdout",
          "text": [
            "7/7 [==============================] - 0s 6ms/step - loss: 0.1136 - accuracy: 0.9899\n",
            "0.11358138173818588 0.9898989796638489\n"
          ]
        },
        {
          "output_type": "display_data",
          "data": {
            "text/plain": [
              "<Figure size 432x288 with 1 Axes>"
            ],
            "image/png": "[encoded data removed]"
          },
          "metadata": {}
        }
      ]
    },
    {
      "cell_type": "code",
      "source": [
        "model_(1000,0.001,0.6,tf.keras.optimizers.SGD(),40,128,0.01)"
      ],
      "metadata": {
        "colab": {
          "base_uri": "https://localhost:8080/",
          "height": 334
        },
        "id": "ACelI0F14dms",
        "outputId": "dabe7080-9582-4c45-b366-bc7871833ef4"
      },
      "execution_count": 49,
      "outputs": [
        {
          "output_type": "stream",
          "name": "stdout",
          "text": [
            "7/7 [==============================] - 0s 5ms/step - loss: 1.3310 - accuracy: 0.9697\n",
            "1.3309921026229858 0.9696969985961914\n"
          ]
        },
        {
          "output_type": "display_data",
          "data": {
            "text/plain": [
              "<Figure size 432x288 with 1 Axes>"
            ],
            "image/png": "[encoded data removed]"
          },
          "metadata": {}
        }
      ]
    },
    {
      "cell_type": "markdown",
      "source": [
        "#training with RMSprop optimizer"
      ],
      "metadata": {
        "id": "xgkT5zs_4lVN"
      }
    },
    {
      "cell_type": "code",
      "source": [
        "#neurons,l_2,dropOut,opti,epoch,batchSize,lR\n",
        "# neurons: \n",
        "# L2: between 0 and 0.1  , (0.1, 0.001, 0.0001)\n",
        "# DROPOUT:  between 0.5 and 0.8 \n",
        "# epoches :  to \n",
        "# batch size:  16, 32, and 64 \n",
        "# LR: 0.001 OR 0.01\n"
      ],
      "metadata": {
        "id": "FgVtF1YXBoXO"
      },
      "execution_count": null,
      "outputs": []
    },
    {
      "cell_type": "code",
      "source": [
        "model_(1092,0.01,0.4,tf.keras.optimizers.RMSprop(),100,32,0.1) "
      ],
      "metadata": {
        "colab": {
          "base_uri": "https://localhost:8080/",
          "height": 334
        },
        "id": "8z1pVz-Y4py7",
        "outputId": "943abe1b-e00b-4983-d5f6-e3141e792b41"
      },
      "execution_count": 50,
      "outputs": [
        {
          "output_type": "stream",
          "name": "stdout",
          "text": [
            "7/7 [==============================] - 0s 4ms/step - loss: 0.1767 - accuracy: 0.9848\n",
            "0.1767059862613678 0.9848484992980957\n"
          ]
        },
        {
          "output_type": "display_data",
          "data": {
            "text/plain": [
              "<Figure size 432x288 with 1 Axes>"
            ],
            "image/png": "[encoded data removed]"
          },
          "metadata": {}
        }
      ]
    },
    {
      "cell_type": "code",
      "source": [
        "model_(1024,0.1,0.7,tf.keras.optimizers.RMSprop(),200,16,0) #with learning rate scheduler"
      ],
      "metadata": {
        "colab": {
          "base_uri": "https://localhost:8080/",
          "height": 334
        },
        "id": "uTHHLLLg4sLl",
        "outputId": "51d2ffcd-3626-4625-8454-dbdef2a7f528"
      },
      "execution_count": 57,
      "outputs": [
        {
          "output_type": "stream",
          "name": "stdout",
          "text": [
            "7/7 [==============================] - 0s 5ms/step - loss: 1.3856 - accuracy: 0.9899\n",
            "1.3856197595596313 0.9898989796638489\n"
          ]
        },
        {
          "output_type": "display_data",
          "data": {
            "text/plain": [
              "<Figure size 432x288 with 1 Axes>"
            ],
            "image/png": "[encoded data removed]"
          },
          "metadata": {}
        }
      ]
    },
    {
      "cell_type": "code",
      "source": [
        "model_(512,0.001,0.6,tf.keras.optimizers.RMSprop(),200,64,0.01)"
      ],
      "metadata": {
        "colab": {
          "base_uri": "https://localhost:8080/",
          "height": 334
        },
        "id": "LG-qvOu64uDl",
        "outputId": "9fb6a59a-049f-4c07-8e50-873cc8288337"
      },
      "execution_count": 51,
      "outputs": [
        {
          "output_type": "stream",
          "name": "stdout",
          "text": [
            "7/7 [==============================] - 0s 4ms/step - loss: 0.0783 - accuracy: 0.9899\n",
            "0.07825036346912384 0.9898989796638489\n"
          ]
        },
        {
          "output_type": "display_data",
          "data": {
            "text/plain": [
              "<Figure size 432x288 with 1 Axes>"
            ],
            "image/png": "[encoded data removed]"
          },
          "metadata": {}
        }
      ]
    },
    {
      "cell_type": "code",
      "source": [
        "model_(512,0.01,0.6,tf.keras.optimizers.RMSprop(),200,16,0.0001)"
      ],
      "metadata": {
        "colab": {
          "base_uri": "https://localhost:8080/",
          "height": 334
        },
        "id": "OVWpQS_k4xpF",
        "outputId": "371f2d33-8316-4a32-9b30-f2ddc1fce21d"
      },
      "execution_count": 53,
      "outputs": [
        {
          "output_type": "stream",
          "name": "stdout",
          "text": [
            "7/7 [==============================] - 0s 3ms/step - loss: 0.2653 - accuracy: 0.9646\n",
            "0.2653411328792572 0.9646464586257935\n"
          ]
        },
        {
          "output_type": "display_data",
          "data": {
            "text/plain": [
              "<Figure size 432x288 with 1 Axes>"
            ],
            "image/png": "[encoded data removed]"
          },
          "metadata": {}
        }
      ]
    },
    {
      "cell_type": "code",
      "source": [],
      "metadata": {
        "id": "64vpOH5HPsf8"
      },
      "execution_count": null,
      "outputs": []
    }
  ]
}